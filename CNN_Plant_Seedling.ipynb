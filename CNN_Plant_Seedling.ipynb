{
  "nbformat": 4,
  "nbformat_minor": 0,
  "metadata": {
    "colab": {
      "name": "CNN_Plant_Seedling.ipynb",
      "provenance": [],
      "authorship_tag": "ABX9TyMna+EFyphZvcbToaA2M8xI",
      "include_colab_link": true
    },
    "kernelspec": {
      "name": "python3",
      "display_name": "Python 3"
    },
    "language_info": {
      "name": "python"
    }
  },
  "cells": [
    {
      "cell_type": "markdown",
      "metadata": {
        "id": "view-in-github",
        "colab_type": "text"
      },
      "source": [
        "<a href=\"https://colab.research.google.com/github/varunkr24/CNN-Image-Classification-1/blob/Python/CNN_Plant_Seedling.ipynb\" target=\"_parent\"><img src=\"https://colab.research.google.com/assets/colab-badge.svg\" alt=\"Open In Colab\"/></a>"
      ]
    },
    {
      "cell_type": "code",
      "metadata": {
        "id": "r6vwDVXUeak4"
      },
      "source": [
        "# import needed libraries\n",
        "import os as os\n",
        "from PIL import Image\n",
        "from array import array\n",
        "import cv2 as cv2\n",
        "from glob import glob\n",
        "import time\n",
        "from matplotlib import pyplot as plt\n",
        "%matplotlib inline\n",
        "import numpy as np\n",
        "import pandas as pd\n",
        "\n",
        "from keras.utils import np_utils\n",
        "from sklearn import preprocessing\n",
        "\n",
        "from keras.models import Sequential\n",
        "from keras.layers import Dense\n",
        "from keras.layers import Dropout\n",
        "from keras.layers import Flatten\n",
        "from keras.layers.convolutional import Conv2D\n",
        "from keras.layers.convolutional import MaxPooling2D\n",
        "from tensorflow.keras.layers import GlobalMaxPool2D\n",
        "from keras.layers import BatchNormalization\n",
        "from keras import optimizers\n",
        "from keras.optimizers import Adam\n",
        "from keras import regularizers\n",
        "from keras import layers\n",
        "seed = 7\n",
        "np.random.seed(seed)\n",
        "\n",
        "# for API\n",
        "from keras.models import Model\n",
        "from keras.layers import Input, Concatenate, Dense, Dropout, Flatten, Activation\n",
        "\n",
        "from keras.layers.normalization import BatchNormalization\n",
        "from keras.utils import to_categorical\n",
        "from keras import backend as K\n"
      ],
      "execution_count": 1,
      "outputs": []
    },
    {
      "cell_type": "code",
      "metadata": {
        "colab": {
          "base_uri": "https://localhost:8080/",
          "height": 35
        },
        "id": "n6y7sQEbecUU",
        "outputId": "8b670485-07c2-4def-b2fc-2088159aec9c"
      },
      "source": [
        "%tensorflow_version 2.x\n",
        "import tensorflow\n",
        "tensorflow.__version__"
      ],
      "execution_count": 2,
      "outputs": [
        {
          "output_type": "execute_result",
          "data": {
            "application/vnd.google.colaboratory.intrinsic+json": {
              "type": "string"
            },
            "text/plain": [
              "'2.4.1'"
            ]
          },
          "metadata": {
            "tags": []
          },
          "execution_count": 2
        }
      ]
    },
    {
      "cell_type": "code",
      "metadata": {
        "colab": {
          "base_uri": "https://localhost:8080/"
        },
        "id": "AU-C6v6pehYj",
        "outputId": "c084a370-c669-4a79-fa5b-4dfff0397b4b"
      },
      "source": [
        "from google.colab import drive\n",
        "drive.mount('/content/drive')"
      ],
      "execution_count": 3,
      "outputs": [
        {
          "output_type": "stream",
          "text": [
            "Mounted at /content/drive\n"
          ],
          "name": "stdout"
        }
      ]
    },
    {
      "cell_type": "code",
      "metadata": {
        "colab": {
          "base_uri": "https://localhost:8080/"
        },
        "id": "jQZIiunQ6iL3",
        "outputId": "7a787369-e990-4e74-c769-8eb8066b773b"
      },
      "source": [
        "cd /content/drive/MyDrive/AIML/Projects/CNN/PlantSeedling/Part1/"
      ],
      "execution_count": 4,
      "outputs": [
        {
          "output_type": "stream",
          "text": [
            "/content/drive/MyDrive/AIML/Projects/CNN/PlantSeedling/Part1\n"
          ],
          "name": "stdout"
        }
      ]
    },
    {
      "cell_type": "code",
      "metadata": {
        "id": "_J0y16DQ7qDP"
      },
      "source": [
        "import os\n",
        "os.chdir('./train')"
      ],
      "execution_count": 5,
      "outputs": []
    },
    {
      "cell_type": "code",
      "metadata": {
        "colab": {
          "base_uri": "https://localhost:8080/",
          "height": 35
        },
        "id": "w8ag2yP28MCS",
        "outputId": "64ff7015-20ab-4177-9acf-a18cc8032ea8"
      },
      "source": [
        "os.getcwd()"
      ],
      "execution_count": 6,
      "outputs": [
        {
          "output_type": "execute_result",
          "data": {
            "application/vnd.google.colaboratory.intrinsic+json": {
              "type": "string"
            },
            "text/plain": [
              "'/content/drive/MyDrive/AIML/Projects/CNN/PlantSeedling/Part1/train'"
            ]
          },
          "metadata": {
            "tags": []
          },
          "execution_count": 6
        }
      ]
    },
    {
      "cell_type": "code",
      "metadata": {
        "colab": {
          "base_uri": "https://localhost:8080/"
        },
        "id": "oJGmKrtH0dzf",
        "outputId": "9fd94797-95c1-483e-bf24-fccd5fbb5b1c"
      },
      "source": [
        "!ls \"/content/drive/MyDrive/AIML/Projects/CNN/PlantSeedling/Part1/\""
      ],
      "execution_count": 8,
      "outputs": [
        {
          "output_type": "stream",
          "text": [
            "'Seedling - Prediction'   test\t train\n"
          ],
          "name": "stdout"
        }
      ]
    },
    {
      "cell_type": "code",
      "metadata": {
        "id": "EWO1OLbzf9AI",
        "colab": {
          "base_uri": "https://localhost:8080/"
        },
        "outputId": "be61bd8e-8e40-446b-9d27-3e05e09589be"
      },
      "source": [
        "pathToTrain = '/content/drive/MyDrive/AIML/Projects/CNN/PlantSeedling/Part1/train/'\n",
        "\n",
        "listing = os.listdir( pathToTrain ) \n",
        "num_folders = len(listing)\n",
        "print ( num_folders)\n",
        "trainArray = [[]]\n",
        "trainImagesPaths = []\n",
        "trainImagesCategories = []\n",
        "trainImg = []\n",
        "scaleTo = 71\n",
        "seed = 7\n",
        "\n",
        "t0=time.time()\n",
        "\n",
        "for imgFolder in listing:\n",
        "  print(imgFolder)\n",
        "  path = '/content/drive/MyDrive/AIML/Projects/CNN/PlantSeedling/Part1/train/' + imgFolder + '/'\n",
        "  files = os.listdir( path ) \n",
        "  for imgFile in files:\n",
        "    imgPath = path + imgFile\n",
        "    trainArray.append([imgPath, imgFolder]) # image path, image folder\n",
        "    trainImagesPaths.append(imgPath) # paths to images\n",
        "    trainImagesCategories.append(imgFolder) # labels\n",
        "    \n",
        "    trainImg.append(cv2.resize(cv2.imread(imgPath), (scaleTo, scaleTo))) # images\n",
        "    \n",
        "t1=time.time()\n",
        "print(t1-t0,\" seconds\")"
      ],
      "execution_count": 9,
      "outputs": [
        {
          "output_type": "stream",
          "text": [
            "12\n",
            "Black-grass\n",
            "Scentless Mayweed\n",
            "Maize\n",
            "Charlock\n",
            "Common Chickweed\n",
            "Common wheat\n",
            "Loose Silky-bent\n",
            "Cleavers\n",
            "Shepherds Purse\n",
            "Fat Hen\n",
            "Sugar beet\n",
            "Small-flowered Cranesbill\n",
            "1272.6329414844513  seconds\n"
          ],
          "name": "stdout"
        }
      ]
    },
    {
      "cell_type": "code",
      "metadata": {
        "id": "hBIvfCs9SQqF",
        "outputId": "4fb6d132-81e0-4afb-fedb-7eea24171c1a",
        "colab": {
          "base_uri": "https://localhost:8080/"
        }
      },
      "source": [
        "cd /content/drive/MyDrive/AIML/Projects/CNN/PlantSeedling/Part1/"
      ],
      "execution_count": 129,
      "outputs": [
        {
          "output_type": "stream",
          "text": [
            "/content/drive/MyDrive/AIML/Projects/CNN/PlantSeedling/Part1\n"
          ],
          "name": "stdout"
        }
      ]
    },
    {
      "cell_type": "code",
      "metadata": {
        "id": "xVTCgyi1R4FM"
      },
      "source": [
        "os.chdir('./test')\n",
        "\n",
        "pathToTest = '/content/drive/MyDrive/AIML/Projects/CNN/PlantSeedling/Part1/test/'\n",
        "\n",
        "listing = os.listdir( pathToTest) #if m.endswith('.mp3')"
      ],
      "execution_count": 130,
      "outputs": []
    },
    {
      "cell_type": "code",
      "metadata": {
        "id": "4SgtnFwggTMP",
        "outputId": "5323986c-8346-485f-9006-b821fc193918",
        "colab": {
          "base_uri": "https://localhost:8080/"
        }
      },
      "source": [
        "listing\n"
      ],
      "execution_count": 132,
      "outputs": [
        {
          "output_type": "execute_result",
          "data": {
            "text/plain": [
              "['fef2ade8c.png',\n",
              " 'fdea6b119.png',\n",
              " 'Test Data Annotation.csv',\n",
              " 'fea3da57c.png',\n",
              " 'fea1d13d6.png',\n",
              " 'fe29629fb.png',\n",
              " 'fe9e87b78.png',\n",
              " 'fea355851.png',\n",
              " 'ffc6f8527.png',\n",
              " 'fa5fd1384.png',\n",
              " 'fd87b36ae.png',\n",
              " 'f66ae4070.png',\n",
              " 'f48916a8c.png',\n",
              " 'fc3e58836.png',\n",
              " 'fbf88b6be.png',\n",
              " 'f593c9cf0.png',\n",
              " 'ff65bc002.png',\n",
              " 'f9ea23fb5.png',\n",
              " 'fa9f3a8f9.png',\n",
              " 'fc6f686fb.png',\n",
              " 'fb022edf9.png',\n",
              " 'fd925f542.png',\n",
              " 'fba8fc78a.png',\n",
              " 'fd253a74e.png',\n",
              " 'fda0b5c38.png',\n",
              " 'fda39e16f.png',\n",
              " 'f4e7733d4.png',\n",
              " 'fadc6adbc.png',\n",
              " 'f9f35cbd4.png',\n",
              " 'f1f7c833f.png',\n",
              " 'f4caf74f9.png',\n",
              " 'f351ce097.png',\n",
              " 'f9b6bfb00.png',\n",
              " 'f8318faf1.png',\n",
              " 'f85ed9b6d.png',\n",
              " 'efe19dc32.png',\n",
              " 'ef74dbcad.png',\n",
              " 'ef3e232ad.png',\n",
              " 'f25996db8.png',\n",
              " 'f6d250856.png',\n",
              " 'eef131644.png',\n",
              " 'f4021df6c.png',\n",
              " 'ef65533d5.png',\n",
              " 'ef02b4ee7.png',\n",
              " 'f2dc546ca.png',\n",
              " 'ef9676433.png',\n",
              " 'f33e9d918.png',\n",
              " 'f3fcfff1b.png',\n",
              " 'f1e87cba7.png',\n",
              " 'f4ad9d950.png',\n",
              " 'edfdb4aeb.png',\n",
              " 'e96e57a90.png',\n",
              " 'f0ffa00bd.png',\n",
              " 'e6f1211a2.png',\n",
              " 'e80a259c5.png',\n",
              " 'e98e5d1d5.png',\n",
              " 'e783f5a4f.png',\n",
              " 'e88bf0db9.png',\n",
              " 'f4234cf4f.png',\n",
              " 'e84464f5a.png',\n",
              " 'e73e308be.png',\n",
              " 'ec08a5d56.png',\n",
              " 'e4d5ec761.png',\n",
              " 'e921021a8.png',\n",
              " 'ef7a5651d.png',\n",
              " 'eaf0815e2.png',\n",
              " 'e721c6ac8.png',\n",
              " 'e7077322d.png',\n",
              " 'ede6b84b4.png',\n",
              " 'e82017baa.png',\n",
              " 'e5e3dccff.png',\n",
              " 'e9d48d664.png',\n",
              " 'e9cd91682.png',\n",
              " 'eec1079a1.png',\n",
              " 'e5297b675.png',\n",
              " 'f23faf9c1.png',\n",
              " 'f445fe6fb.png',\n",
              " 'e5064f6be.png',\n",
              " 'e901b0f28.png',\n",
              " 'e5368474f.png',\n",
              " 'e15fce4f2.png',\n",
              " 'e52493d0b.png',\n",
              " 'e15472085.png',\n",
              " 'e471f1d3a.png',\n",
              " 'bd72d4d8a.png',\n",
              " 'bb20fce02.png',\n",
              " 'df7cb5f87.png',\n",
              " 'bdde957ec.png',\n",
              " 'e3f50adfc.png',\n",
              " 'de0b79659.png',\n",
              " 'dfb1d9012.png',\n",
              " 'e1809cef2.png',\n",
              " 'da5255450.png',\n",
              " 'e1a0e3202.png',\n",
              " 'e1abb4ff9.png',\n",
              " 'e478c452c.png',\n",
              " 'be2499cf4.png',\n",
              " 'e0ec5b6a1.png',\n",
              " 'e14afa235.png',\n",
              " 'e19ad6ac9.png',\n",
              " 'e4a76885b.png',\n",
              " 'e5881dd33.png',\n",
              " 'df521c0c0.png',\n",
              " 'e19673dc9.png',\n",
              " 'b3d6fdb80.png',\n",
              " 'b944a49ca.png',\n",
              " 'b828443ff.png',\n",
              " 'bb64660b7.png',\n",
              " 'b62dca166.png',\n",
              " 'bb1c84bbc.png',\n",
              " 'b6f3d8b5d.png',\n",
              " 'b98327bf4.png',\n",
              " 'b7192c70f.png',\n",
              " 'ba3ce6b3e.png',\n",
              " 'b3e08b037.png',\n",
              " 'bb7621cb3.png',\n",
              " 'b4f7c9214.png',\n",
              " 'b5c7fd009.png',\n",
              " 'bebcaab66.png',\n",
              " 'b687160f5.png',\n",
              " 'bb1d1bfd3.png',\n",
              " 'b7ad92859.png',\n",
              " 'b4c3df835.png',\n",
              " 'b7a7f6390.png',\n",
              " 'b6a3f7876.png',\n",
              " 'b573b7a56.png',\n",
              " 'bd789d151.png',\n",
              " 'b9062c1c8.png',\n",
              " 'be341dbdc.png',\n",
              " 'b39c71707.png',\n",
              " 'd0cdc768f.png',\n",
              " 'b0acaff4a.png',\n",
              " 'b30ab4659.png',\n",
              " 'd102e1a15.png',\n",
              " 'b145ba9d4.png',\n",
              " 'd2f422ccb.png',\n",
              " 'd14aa43f3.png',\n",
              " 'd2f0f326e.png',\n",
              " 'd515398fd.png',\n",
              " 'b1cd2a91e.png',\n",
              " 'd350a25fa.png',\n",
              " 'd09d24c58.png',\n",
              " 'b341d0aab.png',\n",
              " 'cf46d09c5.png',\n",
              " 'cd6adba97.png',\n",
              " 'd2fd9df40.png',\n",
              " 'd17f48d3b.png',\n",
              " 'b2706e2b3.png',\n",
              " 'b03397525.png',\n",
              " 'd8f4923f8.png',\n",
              " 'b31292706.png',\n",
              " 'b130a0632.png',\n",
              " 'b215531dd.png',\n",
              " 'd41d87796.png',\n",
              " 'd488a4fe1.png',\n",
              " 'b47691c08.png',\n",
              " 'd3331e071.png',\n",
              " 'b29339405.png',\n",
              " 'cec5bf198.png',\n",
              " 'b026bf8ca.png',\n",
              " 'cbe761896.png',\n",
              " 'ce3d280eb.png',\n",
              " 'd0152bd7c.png',\n",
              " 'ac3193f78.png',\n",
              " 'ae90f2827.png',\n",
              " 'ce15eee52.png',\n",
              " 'cbba27d89.png',\n",
              " 'acdb75e00.png',\n",
              " 'cb76a7766.png',\n",
              " 'd01873fdd.png',\n",
              " 'ad12382d4.png',\n",
              " 'aecfaed64.png',\n",
              " 'ac75d3326.png',\n",
              " 'aad8375e0.png',\n",
              " 'cf90fc52d.png',\n",
              " 'cc74feadc.png',\n",
              " 'cb496f36e.png',\n",
              " 'adb7a032c.png',\n",
              " 'afcf6abd5.png',\n",
              " 'afa446484.png',\n",
              " 'cfb18d262.png',\n",
              " 'ce42adffb.png',\n",
              " 'cfd8165e9.png',\n",
              " 'aa7d098d1.png',\n",
              " 'abc331628.png',\n",
              " 'ab35453cb.png',\n",
              " 'aaf4da98f.png',\n",
              " 'aee6fa3df.png',\n",
              " 'a8b431a3e.png',\n",
              " 'cd5f0db1c.png',\n",
              " 'cc3d2a59a.png',\n",
              " 'ace8761dd.png',\n",
              " 'ab0f67743.png',\n",
              " 'a9d2eab61.png',\n",
              " 'a8388a37f.png',\n",
              " 'a8c8a1db0.png',\n",
              " 'af45e222a.png',\n",
              " 'd09275360.png',\n",
              " 'abf8b0772.png',\n",
              " 'cf3a8b2fd.png',\n",
              " '91e469b4a.png',\n",
              " '9516e56c4.png',\n",
              " '963544aa0.png',\n",
              " '969a851be.png',\n",
              " '92292055d.png',\n",
              " '966ae5ad9.png',\n",
              " 'a935ca110.png',\n",
              " '8f523520c.png',\n",
              " 'c832e4302.png',\n",
              " '8e29abce1.png',\n",
              " '90b595f12.png',\n",
              " '97b2f0a10.png',\n",
              " '8d6acbe9b.png',\n",
              " '8e6ec1ca6.png',\n",
              " '8cfd98117.png',\n",
              " 'a8da9c08d.png',\n",
              " '9326bda1b.png',\n",
              " '9643fc5f4.png',\n",
              " '8e3ed0a25.png',\n",
              " '8ece6efec.png',\n",
              " 'a060c1cf8.png',\n",
              " 'a85fc8c9a.png',\n",
              " 'a93f940d6.png',\n",
              " '9d3cb4745.png',\n",
              " '8db450ce3.png',\n",
              " '9c777333d.png',\n",
              " '8d6991365.png',\n",
              " '9fab816f2.png',\n",
              " 'c7051c902.png',\n",
              " '90d119d25.png',\n",
              " '9b4800b42.png',\n",
              " '9cce7328c.png',\n",
              " '8faadb6a8.png',\n",
              " 'a006a475c.png',\n",
              " '93079d970.png',\n",
              " '953496deb.png',\n",
              " '93d76fd5d.png',\n",
              " 'a85b48a95.png',\n",
              " 'a55d26a4c.png',\n",
              " '948cdb277.png',\n",
              " 'a8de7c1b7.png',\n",
              " '9b9911f20.png',\n",
              " 'c7eb96871.png',\n",
              " 'a890ac088.png',\n",
              " '9c32a797e.png',\n",
              " '837ac0270.png',\n",
              " '8585f9718.png',\n",
              " '87608f7aa.png',\n",
              " 'a83820a2c.png',\n",
              " '8170d33c1.png',\n",
              " '9baf94467.png',\n",
              " 'c85ef220d.png',\n",
              " 'cae684f8f.png',\n",
              " '9c0c5b731.png',\n",
              " '8455169fe.png',\n",
              " 'c75a82234.png',\n",
              " '835dc5447.png',\n",
              " 'c74c5b7fc.png',\n",
              " '98d819587.png',\n",
              " '87f627bf9.png',\n",
              " '8311740de.png',\n",
              " '86676d627.png',\n",
              " '85431c075.png',\n",
              " 'c88ebfb47.png',\n",
              " 'cadab6616.png',\n",
              " '855955aaf.png',\n",
              " '851c90831.png',\n",
              " '86c309150.png',\n",
              " '8874bba69.png',\n",
              " '79d93bc96.png',\n",
              " '7d22abf91.png',\n",
              " '808578ed5.png',\n",
              " '7f46a71db.png',\n",
              " '827279bad.png',\n",
              " '80e299ae9.png',\n",
              " '7f9e9565d.png',\n",
              " '8303b27ed.png',\n",
              " '7cabd68cc.png',\n",
              " '8104422bb.png',\n",
              " '808cf55c6.png',\n",
              " '7d3045fc3.png',\n",
              " '86f08e6d1.png',\n",
              " '809eb0b82.png',\n",
              " '7d4cd07ad.png',\n",
              " '78c5fba1d.png',\n",
              " '8301b0547.png',\n",
              " '824f5d4e5.png',\n",
              " '82b5f4d33.png',\n",
              " '78b1bf91a.png',\n",
              " '721b2c47a.png',\n",
              " '728eabae1.png',\n",
              " '74d810f87.png',\n",
              " '756dd5070.png',\n",
              " '71334c634.png',\n",
              " '7e9cf1c46.png',\n",
              " '780bd2a2c.png',\n",
              " '7506c0c02.png',\n",
              " '7f31c7f42.png',\n",
              " '7beb2766f.png',\n",
              " '73260a4ee.png',\n",
              " '7691014a1.png',\n",
              " '77ccb8b2a.png',\n",
              " '76555b064.png',\n",
              " '7c85b0265.png',\n",
              " '721be0a4a.png',\n",
              " 'c8f50f0c3.png',\n",
              " '7b21ba6ba.png',\n",
              " '800a8c17e.png',\n",
              " '754b1adf8.png',\n",
              " '71f5323c5.png',\n",
              " '74068643d.png',\n",
              " '76dbd1054.png',\n",
              " '7fdb7202d.png',\n",
              " '75cb95e91.png',\n",
              " '6df8e31ea.png',\n",
              " '6edc76e7c.png',\n",
              " '6a41bf95b.png',\n",
              " '6b721f68e.png',\n",
              " '67e185673.png',\n",
              " '711b46fba.png',\n",
              " '6d6eb3830.png',\n",
              " '6c874918c.png',\n",
              " '6982a9d30.png',\n",
              " '7a38416be.png',\n",
              " '780defa2e.png',\n",
              " '752101fdf.png',\n",
              " '7696badea.png',\n",
              " '63c07d340.png',\n",
              " '659412b1a.png',\n",
              " '699d3c707.png',\n",
              " '6b9d6f8c9.png',\n",
              " '6ba4ef411.png',\n",
              " '74fd477eb.png',\n",
              " 'caa2fbd79.png',\n",
              " '6db684fff.png',\n",
              " '71e73a8a0.png',\n",
              " '6908fb540.png',\n",
              " '6a47821f9.png',\n",
              " '6da892be6.png',\n",
              " '6be169e41.png',\n",
              " '6dd095129.png',\n",
              " '668c1007c.png',\n",
              " '6680836dd.png',\n",
              " '79fba50db.png',\n",
              " '65489944f.png',\n",
              " '65e97117e.png',\n",
              " '6bce55e05.png',\n",
              " '6049234e6.png',\n",
              " '65d08b894.png',\n",
              " '64fe8beb9.png',\n",
              " '604dd663f.png',\n",
              " '647689543.png',\n",
              " '67ce3eaa6.png',\n",
              " '99036c51d.png',\n",
              " '632156793.png',\n",
              " '675ec1b0b.png',\n",
              " '6edb96d45.png',\n",
              " '66ab0e8d0.png',\n",
              " '9aa5587fe.png',\n",
              " '686dc7ec8.png',\n",
              " '71b232519.png',\n",
              " '664194d19.png',\n",
              " '618de3d7a.png',\n",
              " '69d1669f8.png',\n",
              " '653193c1a.png',\n",
              " '65e262a6d.png',\n",
              " '60ee66ddd.png',\n",
              " '5e6a237f2.png',\n",
              " '5eb9c26a6.png',\n",
              " '59b2c6f2b.png',\n",
              " '60fea2ef6.png',\n",
              " '5dcad9a53.png',\n",
              " '5b63dcc21.png',\n",
              " '5bbc0a255.png',\n",
              " '606647f64.png',\n",
              " '5ca0205f9.png',\n",
              " '5bdcfa329.png',\n",
              " '5ee9d0a5b.png',\n",
              " '5b3beec58.png',\n",
              " '5ca2687a4.png',\n",
              " '60f0bc617.png',\n",
              " '5f04aed97.png',\n",
              " '5bc6595f6.png',\n",
              " '5af1d74ee.png',\n",
              " '5c3cd7ea2.png',\n",
              " '615d2b0a9.png',\n",
              " '5883b423d.png',\n",
              " '589e643b8.png',\n",
              " '5a38ac566.png',\n",
              " '61b044411.png',\n",
              " '59f62ad1d.png',\n",
              " '59c6a9f95.png',\n",
              " '5817b766d.png',\n",
              " '593896f83.png',\n",
              " '5779fe8b4.png',\n",
              " '61dd2cdc5.png',\n",
              " '592cc5b89.png',\n",
              " '5bd71f445.png',\n",
              " '5a6bf96f6.png',\n",
              " '599c82eea.png',\n",
              " '59e1cea8d.png',\n",
              " '5b3000b9a.png',\n",
              " '558aa7deb.png',\n",
              " '592473c83.png',\n",
              " '599691cd9.png',\n",
              " '59358cd44.png',\n",
              " '55251925f.png',\n",
              " '50de8a115.png',\n",
              " '54b3afd58.png',\n",
              " '4f83143e1.png',\n",
              " '53ceb4657.png',\n",
              " '55920f07f.png',\n",
              " '55fed435f.png',\n",
              " '550a8b7e6.png',\n",
              " '5315c2dca.png',\n",
              " '56a01b835.png',\n",
              " '52a87abe5.png',\n",
              " '52dc7a4d6.png',\n",
              " '590f5aea6.png',\n",
              " '55a852f40.png',\n",
              " '53e6e9000.png',\n",
              " '54c8bb900.png',\n",
              " '56112b92c.png',\n",
              " '534e74d83.png',\n",
              " '4c7838de4.png',\n",
              " '79dafec17.png',\n",
              " '523e5505c.png',\n",
              " '99569b224.png',\n",
              " 'c64370a72.png',\n",
              " '4ea7493d5.png',\n",
              " '4b032563b.png',\n",
              " '4bcdaa5e2.png',\n",
              " '98da6ef4e.png',\n",
              " '4f44ca525.png',\n",
              " '4bbf1f6ea.png',\n",
              " 'c7ae30f3a.png',\n",
              " '47f9e5d91.png',\n",
              " '47b7d8e17.png',\n",
              " '539961189.png',\n",
              " '7b52585da.png',\n",
              " '502dff972.png',\n",
              " '4c5ab9b68.png',\n",
              " '46c14fde2.png',\n",
              " '4bbfd1e05.png',\n",
              " '5296835a0.png',\n",
              " '521b27a17.png',\n",
              " '4e69d100a.png',\n",
              " '4e1190d78.png',\n",
              " '48d97c645.png',\n",
              " '4e9d3765f.png',\n",
              " '486e59179.png',\n",
              " '4392d93cf.png',\n",
              " '446f7da01.png',\n",
              " '410e6f702.png',\n",
              " '4c8005bbc.png',\n",
              " '444473900.png',\n",
              " '429211ee6.png',\n",
              " '406ecb5c5.png',\n",
              " '41f1c3cdb.png',\n",
              " '506347cfe.png',\n",
              " '4e18ab737.png',\n",
              " '48ef6a2ff.png',\n",
              " '43ede9de9.png',\n",
              " '4b155fb07.png',\n",
              " '4a337a4a9.png',\n",
              " '44e8b8833.png',\n",
              " '456d507c0.png',\n",
              " '406162ef9.png',\n",
              " '4823c3ffa.png',\n",
              " '466bb6d3b.png',\n",
              " '48231e475.png',\n",
              " '4287d810c.png',\n",
              " '3f92d8039.png',\n",
              " '3fbd0fc6a.png',\n",
              " '3ebbe9ca4.png',\n",
              " '3e9f41817.png',\n",
              " '3efa1f66c.png',\n",
              " '4049a6ea6.png',\n",
              " '4ac29bbf0.png',\n",
              " '39c8fde99.png',\n",
              " '3eda9cbb6.png',\n",
              " '3bbef3ecb.png',\n",
              " '3f826b318.png',\n",
              " '490c4f9c8.png',\n",
              " '3f64c2c1b.png',\n",
              " '3eebd36c6.png',\n",
              " '3d65168c2.png',\n",
              " '3dd52bd2a.png',\n",
              " '41e07778c.png',\n",
              " '42e7ed442.png',\n",
              " '3a909ead8.png',\n",
              " '3fbf1a417.png',\n",
              " '995c7ab1e.png',\n",
              " 'c7b07431e.png',\n",
              " '3d67c434b.png',\n",
              " '39b740f7e.png',\n",
              " '37c3108d6.png',\n",
              " '36ed4f215.png',\n",
              " '36839d5e9.png',\n",
              " '39d569be4.png',\n",
              " '3edf5e9ef.png',\n",
              " '39858776a.png',\n",
              " '37297a64c.png',\n",
              " '3b73c3b61.png',\n",
              " '37714071b.png',\n",
              " '3abb502fb.png',\n",
              " '3d38a87bc.png',\n",
              " 'c5e88cd42.png',\n",
              " '35ebe165c.png',\n",
              " '3da774107.png',\n",
              " '377283a21.png',\n",
              " '32b42c120.png',\n",
              " '3281183f9.png',\n",
              " '2f246d688.png',\n",
              " '35a90f8d0.png',\n",
              " '3827436f3.png',\n",
              " '32a8c8a1d.png',\n",
              " '3185294c8.png',\n",
              " '36d62bf36.png',\n",
              " '37e545a60.png',\n",
              " '2f0004a7f.png',\n",
              " '391dcd7fd.png',\n",
              " '33748968f.png',\n",
              " '33317fc2a.png',\n",
              " '33448fe39.png',\n",
              " '38c054379.png',\n",
              " '338c7e907.png',\n",
              " '32c86784b.png',\n",
              " '30ad31220.png',\n",
              " '31fcdc161.png',\n",
              " '2e86f1085.png',\n",
              " '31f3dd81f.png',\n",
              " '35cf9fa01.png',\n",
              " '79e5ea8fa.png',\n",
              " '2d992d1fb.png',\n",
              " '2dd5cfba9.png',\n",
              " '288564c76.png',\n",
              " '34dd57ca9.png',\n",
              " '29f49cd0b.png',\n",
              " '26e7ae885.png',\n",
              " '2d5058a59.png',\n",
              " '2ea664465.png',\n",
              " '29bab7cad.png',\n",
              " '2a5064f19.png',\n",
              " '2bd74d2da.png',\n",
              " '2d9c798f9.png',\n",
              " '2b55a2da2.png',\n",
              " '3526b05cc.png',\n",
              " '270b939cf.png',\n",
              " '29ce426a1.png',\n",
              " '2ff5cb348.png',\n",
              " '2406d6c99.png',\n",
              " '26852751a.png',\n",
              " '20f983a71.png',\n",
              " '258b1183c.png',\n",
              " '239bdf640.png',\n",
              " '2a667e099.png',\n",
              " '241e6935a.png',\n",
              " '23e480e64.png',\n",
              " '2df78338c.png',\n",
              " '248436078.png',\n",
              " '24d78df74.png',\n",
              " '279df95f2.png',\n",
              " '24d36c52c.png',\n",
              " '25cf6eb73.png',\n",
              " '20ea96bcc.png',\n",
              " '223e4af09.png',\n",
              " '23bc8ec4f.png',\n",
              " '24a058589.png',\n",
              " '1f290e016.png',\n",
              " '22e79540f.png',\n",
              " '24c94a6ca.png',\n",
              " '2693e5c65.png',\n",
              " '2126dc71b.png',\n",
              " '24dbc3b21.png',\n",
              " '25a4c427e.png',\n",
              " '25fa8d109.png',\n",
              " '78750e0ff.png',\n",
              " '1e095a7e1.png',\n",
              " '219fd68d5.png',\n",
              " '9a3f20121.png',\n",
              " '1d0cbd819.png',\n",
              " 'c60e91e07.png',\n",
              " '1f5e5554e.png',\n",
              " '1f3f44563.png',\n",
              " '1be0713da.png',\n",
              " '22fbf13d6.png',\n",
              " '1fefb54b7.png',\n",
              " '205df1df3.png',\n",
              " '1dc7c45df.png',\n",
              " '20817c846.png',\n",
              " '20e562fd5.png',\n",
              " '1c680883c.png',\n",
              " '1d48b7564.png',\n",
              " '1b6a6494d.png',\n",
              " '1cfd91582.png',\n",
              " '17d5e5ac4.png',\n",
              " '19618ad6a.png',\n",
              " '17a78fb44.png',\n",
              " '1d321253f.png',\n",
              " '1c52ea820.png',\n",
              " '19b51843a.png',\n",
              " '187668bde.png',\n",
              " '1d56351b2.png',\n",
              " '1926e82fd.png',\n",
              " '177d7e2a4.png',\n",
              " '19e58cc5e.png',\n",
              " '165681fd9.png',\n",
              " '19fdf19fb.png',\n",
              " '1b490196c.png',\n",
              " '1821eb11a.png',\n",
              " '1bf9b94a6.png',\n",
              " '1694a70e4.png',\n",
              " '17529c555.png',\n",
              " '122913909.png',\n",
              " '115f93ecc.png',\n",
              " '16fd2e01a.png',\n",
              " '1459e96a0.png',\n",
              " '11d3f68ff.png',\n",
              " '1758a1baf.png',\n",
              " '16467a950.png',\n",
              " '14bb43eee.png',\n",
              " '126a71ce0.png',\n",
              " '1364b297a.png',\n",
              " '1376f3b63.png',\n",
              " '13b9fa92d.png',\n",
              " '12625488b.png',\n",
              " '1623fb9e1.png',\n",
              " '16357b436.png',\n",
              " '0f6cbe5e8.png',\n",
              " '172f9b10b.png',\n",
              " '1312065a5.png',\n",
              " '0fb233ad6.png',\n",
              " '116b136de.png',\n",
              " '003d61042.png',\n",
              " '00ef713a8.png',\n",
              " '148bbda66.png',\n",
              " '1541bdb2e.png',\n",
              " '03566743d.png',\n",
              " '02cfeb38d.png',\n",
              " '00d090cde.png',\n",
              " '0e8492cb1.png',\n",
              " '1191ba346.png',\n",
              " '0021e90e4.png',\n",
              " '05341a8a6.png',\n",
              " '0086a6340.png',\n",
              " '0ee4ad224.png',\n",
              " '03ef36742.png',\n",
              " '0ebf8f2f4.png',\n",
              " '00c47e980.png',\n",
              " '0d31e6602.png',\n",
              " '0c51bf229.png',\n",
              " '043449b0b.png',\n",
              " '01291174f.png',\n",
              " '0437393b1.png',\n",
              " '026716f9b.png',\n",
              " '060450d79.png',\n",
              " '04814f36d.png',\n",
              " '085974290.png',\n",
              " '0bf7bfb05.png',\n",
              " '089ad62a7.png',\n",
              " '007b3da8b.png',\n",
              " '0ae6668fa.png',\n",
              " '0a64e3e6c.png',\n",
              " '0ad9e7dfb.png',\n",
              " '0c45ace27.png',\n",
              " '0885e7690.png',\n",
              " '0c5f6c493.png',\n",
              " '0c4199daa.png',\n",
              " '0d117d910.png',\n",
              " '099b961ec.png',\n",
              " '08d591441.png',\n",
              " '0c27cf05f.png',\n",
              " '03e322a29.png',\n",
              " '03a2ee656.png',\n",
              " '0dba99002.png',\n",
              " '0caeda5df.png',\n",
              " '060f1dc84.png',\n",
              " 'c6b76307d.png',\n",
              " '976e4e079.png',\n",
              " '770a265f5.png',\n",
              " 'a74bf916d.png',\n",
              " '06d12f6fa.png',\n",
              " '97844bfd5.png',\n",
              " '974959ec1.png',\n",
              " '071cb3ece.png',\n",
              " '0751c0bbc.png',\n",
              " '7615e52d3.png',\n",
              " 'a74d475c2.png',\n",
              " 'c50335991.png',\n",
              " '96f14d90c.png',\n",
              " 'c6c8d4ba0.png',\n",
              " '958bb9e96.png',\n",
              " 'a4b61a4ea.png',\n",
              " 'a5db42f7d.png',\n",
              " '0911d3dee.png',\n",
              " '063363305.png',\n",
              " '0625f063b.png',\n",
              " '98062cd87.png',\n",
              " '785a73ab8.png',\n",
              " '07e62f903.png',\n",
              " 'c5078bac5.png',\n",
              " 'a3d0031fd.png',\n",
              " 'a3b375b34.png',\n",
              " 'c0d9e170b.png',\n",
              " 'a169b71e7.png',\n",
              " 'c63da993b.png',\n",
              " 'a800caead.png',\n",
              " 'c26ccf73c.png',\n",
              " 'a19c3faca.png',\n",
              " '96ecad7a1.png',\n",
              " 'a7bd7cadb.png',\n",
              " 'a2c89c367.png',\n",
              " 'c4ed8ed38.png',\n",
              " 'a2b703e21.png',\n",
              " 'c5e419015.png',\n",
              " 'c10db7ae2.png',\n",
              " 'a1da8be3c.png',\n",
              " 'a544fc46d.png',\n",
              " 'c0f5d9ac8.png',\n",
              " 'a254d71f6.png',\n",
              " 'c10ccbd82.png',\n",
              " 'c35efa095.png',\n",
              " 'bfab3e3d0.png',\n",
              " 'a38b8a581.png',\n",
              " 'c069fc3fa.png',\n",
              " 'bf66b9cd2.png',\n",
              " '9c8b08a24.png',\n",
              " 'bf3924a57.png',\n",
              " 'a0f37c726.png',\n",
              " 'a1e0a6c02.png',\n",
              " 'a0b393945.png',\n",
              " 'c0bc3997b.png',\n",
              " '9df3275da.png',\n",
              " 'c2de6020a.png',\n",
              " 'a2d25b4f3.png',\n",
              " 'c06e7c748.png',\n",
              " 'a35fd6fbb.png',\n",
              " 'c1ecff98b.png',\n",
              " 'a276c65f7.png',\n",
              " '8e4eaeec0.png',\n",
              " '8c9953903.png',\n",
              " '8e2e5604e.png',\n",
              " 'beebe5f4e.png',\n",
              " '88d8a4508.png',\n",
              " '8dbb8e1b9.png',\n",
              " '8c98a6e9b.png',\n",
              " 'bea23d9f8.png',\n",
              " '8ca6140ca.png',\n",
              " '8cf2e3e6c.png',\n",
              " '8bc0261c9.png',\n",
              " '8a8d6c712.png',\n",
              " '8b043093d.png',\n",
              " '9d79a1f0c.png',\n",
              " 'c0461776c.png',\n",
              " 'bffc08672.png',\n",
              " '8cf909eb3.png',\n",
              " 'dabea05f4.png',\n",
              " '862b8e7a0.png',\n",
              " 'dd9f36df7.png',\n",
              " 'dcd7ff249.png',\n",
              " '8a32d0bfa.png',\n",
              " '897e5a8de.png',\n",
              " 'df11d56a7.png',\n",
              " '8916793ce.png',\n",
              " '8b9144917.png',\n",
              " '866be78b0.png',\n",
              " '892e9d6c6.png',\n",
              " '8a30b2de3.png',\n",
              " 'dce2f6612.png',\n",
              " '8b27bfd2b.png',\n",
              " 'dabe3e5be.png',\n",
              " 'da9ef7858.png',\n",
              " '8a4d3a1b1.png',\n",
              " 'da713c465.png',\n",
              " 'da4ed3a28.png',\n",
              " '856f2910a.png',\n",
              " '88ac6df54.png',\n",
              " '8ab8a958b.png',\n",
              " 'dc4cd56a3.png',\n",
              " 'dc55449b2.png',\n",
              " 'd7017f701.png',\n",
              " 'dd5ec63d9.png',\n",
              " 'd84d37a61.png',\n",
              " 'd93c7ab6d.png',\n",
              " 'd9c50616e.png',\n",
              " 'd689256be.png',\n",
              " 'd89db156f.png',\n",
              " 'd563be369.png',\n",
              " 'd6d80a321.png',\n",
              " 'd6d31dcbe.png',\n",
              " 'd668409ff.png',\n",
              " 'd6c8c3c48.png',\n",
              " 'd5f7dd60a.png',\n",
              " 'da231c97f.png']"
            ]
          },
          "metadata": {
            "tags": []
          },
          "execution_count": 132
        }
      ]
    },
    {
      "cell_type": "code",
      "metadata": {
        "id": "cB_B5jweI5dO",
        "outputId": "b4b1b45a-7548-4b68-9f7c-8b02affc1a62",
        "colab": {
          "base_uri": "https://localhost:8080/"
        }
      },
      "source": [
        "num_images = len(listing)\n",
        "print (num_images)\n",
        "testImg = []\n",
        "scaleTo = 71\n",
        "seed = 7\n",
        "\n",
        "t0=time.time()\n",
        "\n",
        "for img in listing:\n",
        "  print(img)\n",
        "  testImg.append(cv2.imread(img)) # images\n",
        "      \n",
        "t1=time.time()\n",
        "print(t1-t0,\" seconds\")"
      ],
      "execution_count": 114,
      "outputs": [
        {
          "output_type": "stream",
          "text": [
            "795\n",
            "fef2ade8c.png\n",
            "fdea6b119.png\n",
            "Test Data Annotation.csv\n",
            "fea3da57c.png\n",
            "fea1d13d6.png\n",
            "fe29629fb.png\n",
            "fe9e87b78.png\n",
            "fea355851.png\n",
            "ffc6f8527.png\n",
            "fa5fd1384.png\n",
            "fd87b36ae.png\n",
            "f66ae4070.png\n",
            "f48916a8c.png\n",
            "fc3e58836.png\n",
            "fbf88b6be.png\n",
            "f593c9cf0.png\n",
            "ff65bc002.png\n",
            "f9ea23fb5.png\n",
            "fa9f3a8f9.png\n",
            "fc6f686fb.png\n",
            "fb022edf9.png\n",
            "fd925f542.png\n",
            "fba8fc78a.png\n",
            "fd253a74e.png\n",
            "fda0b5c38.png\n",
            "fda39e16f.png\n",
            "f4e7733d4.png\n",
            "fadc6adbc.png\n",
            "f9f35cbd4.png\n",
            "f1f7c833f.png\n",
            "f4caf74f9.png\n",
            "f351ce097.png\n",
            "f9b6bfb00.png\n",
            "f8318faf1.png\n",
            "f85ed9b6d.png\n",
            "efe19dc32.png\n",
            "ef74dbcad.png\n",
            "ef3e232ad.png\n",
            "f25996db8.png\n",
            "f6d250856.png\n",
            "eef131644.png\n",
            "f4021df6c.png\n",
            "ef65533d5.png\n",
            "ef02b4ee7.png\n",
            "f2dc546ca.png\n",
            "ef9676433.png\n",
            "f33e9d918.png\n",
            "f3fcfff1b.png\n",
            "f1e87cba7.png\n",
            "f4ad9d950.png\n",
            "edfdb4aeb.png\n",
            "e96e57a90.png\n",
            "f0ffa00bd.png\n",
            "e6f1211a2.png\n",
            "e80a259c5.png\n",
            "e98e5d1d5.png\n",
            "e783f5a4f.png\n",
            "e88bf0db9.png\n",
            "f4234cf4f.png\n",
            "e84464f5a.png\n",
            "e73e308be.png\n",
            "ec08a5d56.png\n",
            "e4d5ec761.png\n",
            "e921021a8.png\n",
            "ef7a5651d.png\n",
            "eaf0815e2.png\n",
            "e721c6ac8.png\n",
            "e7077322d.png\n",
            "ede6b84b4.png\n",
            "e82017baa.png\n",
            "e5e3dccff.png\n",
            "e9d48d664.png\n",
            "e9cd91682.png\n",
            "eec1079a1.png\n",
            "e5297b675.png\n",
            "f23faf9c1.png\n",
            "f445fe6fb.png\n",
            "e5064f6be.png\n",
            "e901b0f28.png\n",
            "e5368474f.png\n",
            "e15fce4f2.png\n",
            "e52493d0b.png\n",
            "e15472085.png\n",
            "e471f1d3a.png\n",
            "bd72d4d8a.png\n",
            "bb20fce02.png\n",
            "df7cb5f87.png\n",
            "bdde957ec.png\n",
            "e3f50adfc.png\n",
            "de0b79659.png\n",
            "dfb1d9012.png\n",
            "e1809cef2.png\n",
            "da5255450.png\n",
            "e1a0e3202.png\n",
            "e1abb4ff9.png\n",
            "e478c452c.png\n",
            "be2499cf4.png\n",
            "e0ec5b6a1.png\n",
            "e14afa235.png\n",
            "e19ad6ac9.png\n",
            "e4a76885b.png\n",
            "e5881dd33.png\n",
            "df521c0c0.png\n",
            "e19673dc9.png\n",
            "b3d6fdb80.png\n",
            "b944a49ca.png\n",
            "b828443ff.png\n",
            "bb64660b7.png\n",
            "b62dca166.png\n",
            "bb1c84bbc.png\n",
            "b6f3d8b5d.png\n",
            "b98327bf4.png\n",
            "b7192c70f.png\n",
            "ba3ce6b3e.png\n",
            "b3e08b037.png\n",
            "bb7621cb3.png\n",
            "b4f7c9214.png\n",
            "b5c7fd009.png\n",
            "bebcaab66.png\n",
            "b687160f5.png\n",
            "bb1d1bfd3.png\n",
            "b7ad92859.png\n",
            "b4c3df835.png\n",
            "b7a7f6390.png\n",
            "b6a3f7876.png\n",
            "b573b7a56.png\n",
            "bd789d151.png\n",
            "b9062c1c8.png\n",
            "be341dbdc.png\n",
            "b39c71707.png\n",
            "d0cdc768f.png\n",
            "b0acaff4a.png\n",
            "b30ab4659.png\n",
            "d102e1a15.png\n",
            "b145ba9d4.png\n",
            "d2f422ccb.png\n",
            "d14aa43f3.png\n",
            "d2f0f326e.png\n",
            "d515398fd.png\n",
            "b1cd2a91e.png\n",
            "d350a25fa.png\n",
            "d09d24c58.png\n",
            "b341d0aab.png\n",
            "cf46d09c5.png\n",
            "cd6adba97.png\n",
            "d2fd9df40.png\n",
            "d17f48d3b.png\n",
            "b2706e2b3.png\n",
            "b03397525.png\n",
            "d8f4923f8.png\n",
            "b31292706.png\n",
            "b130a0632.png\n",
            "b215531dd.png\n",
            "d41d87796.png\n",
            "d488a4fe1.png\n",
            "b47691c08.png\n",
            "d3331e071.png\n",
            "b29339405.png\n",
            "cec5bf198.png\n",
            "b026bf8ca.png\n",
            "cbe761896.png\n",
            "ce3d280eb.png\n",
            "d0152bd7c.png\n",
            "ac3193f78.png\n",
            "ae90f2827.png\n",
            "ce15eee52.png\n",
            "cbba27d89.png\n",
            "acdb75e00.png\n",
            "cb76a7766.png\n",
            "d01873fdd.png\n",
            "ad12382d4.png\n",
            "aecfaed64.png\n",
            "ac75d3326.png\n",
            "aad8375e0.png\n",
            "cf90fc52d.png\n",
            "cc74feadc.png\n",
            "cb496f36e.png\n",
            "adb7a032c.png\n",
            "afcf6abd5.png\n",
            "afa446484.png\n",
            "cfb18d262.png\n",
            "ce42adffb.png\n",
            "cfd8165e9.png\n",
            "aa7d098d1.png\n",
            "abc331628.png\n",
            "ab35453cb.png\n",
            "aaf4da98f.png\n",
            "aee6fa3df.png\n",
            "a8b431a3e.png\n",
            "cd5f0db1c.png\n",
            "cc3d2a59a.png\n",
            "ace8761dd.png\n",
            "ab0f67743.png\n",
            "a9d2eab61.png\n",
            "a8388a37f.png\n",
            "a8c8a1db0.png\n",
            "af45e222a.png\n",
            "d09275360.png\n",
            "abf8b0772.png\n",
            "cf3a8b2fd.png\n",
            "91e469b4a.png\n",
            "9516e56c4.png\n",
            "963544aa0.png\n",
            "969a851be.png\n",
            "92292055d.png\n",
            "966ae5ad9.png\n",
            "a935ca110.png\n",
            "8f523520c.png\n",
            "c832e4302.png\n",
            "8e29abce1.png\n",
            "90b595f12.png\n",
            "97b2f0a10.png\n",
            "8d6acbe9b.png\n",
            "8e6ec1ca6.png\n",
            "8cfd98117.png\n",
            "a8da9c08d.png\n",
            "9326bda1b.png\n",
            "9643fc5f4.png\n",
            "8e3ed0a25.png\n",
            "8ece6efec.png\n",
            "a060c1cf8.png\n",
            "a85fc8c9a.png\n",
            "a93f940d6.png\n",
            "9d3cb4745.png\n",
            "8db450ce3.png\n",
            "9c777333d.png\n",
            "8d6991365.png\n",
            "9fab816f2.png\n",
            "c7051c902.png\n",
            "90d119d25.png\n",
            "9b4800b42.png\n",
            "9cce7328c.png\n",
            "8faadb6a8.png\n",
            "a006a475c.png\n",
            "93079d970.png\n",
            "953496deb.png\n",
            "93d76fd5d.png\n",
            "a85b48a95.png\n",
            "a55d26a4c.png\n",
            "948cdb277.png\n",
            "a8de7c1b7.png\n",
            "9b9911f20.png\n",
            "c7eb96871.png\n",
            "a890ac088.png\n",
            "9c32a797e.png\n",
            "837ac0270.png\n",
            "8585f9718.png\n",
            "87608f7aa.png\n",
            "a83820a2c.png\n",
            "8170d33c1.png\n",
            "9baf94467.png\n",
            "c85ef220d.png\n",
            "cae684f8f.png\n",
            "9c0c5b731.png\n",
            "8455169fe.png\n",
            "c75a82234.png\n",
            "835dc5447.png\n",
            "c74c5b7fc.png\n",
            "98d819587.png\n",
            "87f627bf9.png\n",
            "8311740de.png\n",
            "86676d627.png\n",
            "85431c075.png\n",
            "c88ebfb47.png\n",
            "cadab6616.png\n",
            "855955aaf.png\n",
            "851c90831.png\n",
            "86c309150.png\n",
            "8874bba69.png\n",
            "79d93bc96.png\n",
            "7d22abf91.png\n",
            "808578ed5.png\n",
            "7f46a71db.png\n",
            "827279bad.png\n",
            "80e299ae9.png\n",
            "7f9e9565d.png\n",
            "8303b27ed.png\n",
            "7cabd68cc.png\n",
            "8104422bb.png\n",
            "808cf55c6.png\n",
            "7d3045fc3.png\n",
            "86f08e6d1.png\n",
            "809eb0b82.png\n",
            "7d4cd07ad.png\n",
            "78c5fba1d.png\n",
            "8301b0547.png\n",
            "824f5d4e5.png\n",
            "82b5f4d33.png\n",
            "78b1bf91a.png\n",
            "721b2c47a.png\n",
            "728eabae1.png\n",
            "74d810f87.png\n",
            "756dd5070.png\n",
            "71334c634.png\n",
            "7e9cf1c46.png\n",
            "780bd2a2c.png\n",
            "7506c0c02.png\n",
            "7f31c7f42.png\n",
            "7beb2766f.png\n",
            "73260a4ee.png\n",
            "7691014a1.png\n",
            "77ccb8b2a.png\n",
            "76555b064.png\n",
            "7c85b0265.png\n",
            "721be0a4a.png\n",
            "c8f50f0c3.png\n",
            "7b21ba6ba.png\n",
            "800a8c17e.png\n",
            "754b1adf8.png\n",
            "71f5323c5.png\n",
            "74068643d.png\n",
            "76dbd1054.png\n",
            "7fdb7202d.png\n",
            "75cb95e91.png\n",
            "6df8e31ea.png\n",
            "6edc76e7c.png\n",
            "6a41bf95b.png\n",
            "6b721f68e.png\n",
            "67e185673.png\n",
            "711b46fba.png\n",
            "6d6eb3830.png\n",
            "6c874918c.png\n",
            "6982a9d30.png\n",
            "7a38416be.png\n",
            "780defa2e.png\n",
            "752101fdf.png\n",
            "7696badea.png\n",
            "63c07d340.png\n",
            "659412b1a.png\n",
            "699d3c707.png\n",
            "6b9d6f8c9.png\n",
            "6ba4ef411.png\n",
            "74fd477eb.png\n",
            "caa2fbd79.png\n",
            "6db684fff.png\n",
            "71e73a8a0.png\n",
            "6908fb540.png\n",
            "6a47821f9.png\n",
            "6da892be6.png\n",
            "6be169e41.png\n",
            "6dd095129.png\n",
            "668c1007c.png\n",
            "6680836dd.png\n",
            "79fba50db.png\n",
            "65489944f.png\n",
            "65e97117e.png\n",
            "6bce55e05.png\n",
            "6049234e6.png\n",
            "65d08b894.png\n",
            "64fe8beb9.png\n",
            "604dd663f.png\n",
            "647689543.png\n",
            "67ce3eaa6.png\n",
            "99036c51d.png\n",
            "632156793.png\n",
            "675ec1b0b.png\n",
            "6edb96d45.png\n",
            "66ab0e8d0.png\n",
            "9aa5587fe.png\n",
            "686dc7ec8.png\n",
            "71b232519.png\n",
            "664194d19.png\n",
            "618de3d7a.png\n",
            "69d1669f8.png\n",
            "653193c1a.png\n",
            "65e262a6d.png\n",
            "60ee66ddd.png\n",
            "5e6a237f2.png\n",
            "5eb9c26a6.png\n",
            "59b2c6f2b.png\n",
            "60fea2ef6.png\n",
            "5dcad9a53.png\n",
            "5b63dcc21.png\n",
            "5bbc0a255.png\n",
            "606647f64.png\n",
            "5ca0205f9.png\n",
            "5bdcfa329.png\n",
            "5ee9d0a5b.png\n",
            "5b3beec58.png\n",
            "5ca2687a4.png\n",
            "60f0bc617.png\n",
            "5f04aed97.png\n",
            "5bc6595f6.png\n",
            "5af1d74ee.png\n",
            "5c3cd7ea2.png\n",
            "615d2b0a9.png\n",
            "5883b423d.png\n",
            "589e643b8.png\n",
            "5a38ac566.png\n",
            "61b044411.png\n",
            "59f62ad1d.png\n",
            "59c6a9f95.png\n",
            "5817b766d.png\n",
            "593896f83.png\n",
            "5779fe8b4.png\n",
            "61dd2cdc5.png\n",
            "592cc5b89.png\n",
            "5bd71f445.png\n",
            "5a6bf96f6.png\n",
            "599c82eea.png\n",
            "59e1cea8d.png\n",
            "5b3000b9a.png\n",
            "558aa7deb.png\n",
            "592473c83.png\n",
            "599691cd9.png\n",
            "59358cd44.png\n",
            "55251925f.png\n",
            "50de8a115.png\n",
            "54b3afd58.png\n",
            "4f83143e1.png\n",
            "53ceb4657.png\n",
            "55920f07f.png\n",
            "55fed435f.png\n",
            "550a8b7e6.png\n",
            "5315c2dca.png\n",
            "56a01b835.png\n",
            "52a87abe5.png\n",
            "52dc7a4d6.png\n",
            "590f5aea6.png\n",
            "55a852f40.png\n",
            "53e6e9000.png\n",
            "54c8bb900.png\n",
            "56112b92c.png\n",
            "534e74d83.png\n",
            "4c7838de4.png\n",
            "79dafec17.png\n",
            "523e5505c.png\n",
            "99569b224.png\n",
            "c64370a72.png\n",
            "4ea7493d5.png\n",
            "4b032563b.png\n",
            "4bcdaa5e2.png\n",
            "98da6ef4e.png\n",
            "4f44ca525.png\n",
            "4bbf1f6ea.png\n",
            "c7ae30f3a.png\n",
            "47f9e5d91.png\n",
            "47b7d8e17.png\n",
            "539961189.png\n",
            "7b52585da.png\n",
            "502dff972.png\n",
            "4c5ab9b68.png\n",
            "46c14fde2.png\n",
            "4bbfd1e05.png\n",
            "5296835a0.png\n",
            "521b27a17.png\n",
            "4e69d100a.png\n",
            "4e1190d78.png\n",
            "48d97c645.png\n",
            "4e9d3765f.png\n",
            "486e59179.png\n",
            "4392d93cf.png\n",
            "446f7da01.png\n",
            "410e6f702.png\n",
            "4c8005bbc.png\n",
            "444473900.png\n",
            "429211ee6.png\n",
            "406ecb5c5.png\n",
            "41f1c3cdb.png\n",
            "506347cfe.png\n",
            "4e18ab737.png\n",
            "48ef6a2ff.png\n",
            "43ede9de9.png\n",
            "4b155fb07.png\n",
            "4a337a4a9.png\n",
            "44e8b8833.png\n",
            "456d507c0.png\n",
            "406162ef9.png\n",
            "4823c3ffa.png\n",
            "466bb6d3b.png\n",
            "48231e475.png\n",
            "4287d810c.png\n",
            "3f92d8039.png\n",
            "3fbd0fc6a.png\n",
            "3ebbe9ca4.png\n",
            "3e9f41817.png\n",
            "3efa1f66c.png\n",
            "4049a6ea6.png\n",
            "4ac29bbf0.png\n",
            "39c8fde99.png\n",
            "3eda9cbb6.png\n",
            "3bbef3ecb.png\n",
            "3f826b318.png\n",
            "490c4f9c8.png\n",
            "3f64c2c1b.png\n",
            "3eebd36c6.png\n",
            "3d65168c2.png\n",
            "3dd52bd2a.png\n",
            "41e07778c.png\n",
            "42e7ed442.png\n",
            "3a909ead8.png\n",
            "3fbf1a417.png\n",
            "995c7ab1e.png\n",
            "c7b07431e.png\n",
            "3d67c434b.png\n",
            "39b740f7e.png\n",
            "37c3108d6.png\n",
            "36ed4f215.png\n",
            "36839d5e9.png\n",
            "39d569be4.png\n",
            "3edf5e9ef.png\n",
            "39858776a.png\n",
            "37297a64c.png\n",
            "3b73c3b61.png\n",
            "37714071b.png\n",
            "3abb502fb.png\n",
            "3d38a87bc.png\n",
            "c5e88cd42.png\n",
            "35ebe165c.png\n",
            "3da774107.png\n",
            "377283a21.png\n",
            "32b42c120.png\n",
            "3281183f9.png\n",
            "2f246d688.png\n",
            "35a90f8d0.png\n",
            "3827436f3.png\n",
            "32a8c8a1d.png\n",
            "3185294c8.png\n",
            "36d62bf36.png\n",
            "37e545a60.png\n",
            "2f0004a7f.png\n",
            "391dcd7fd.png\n",
            "33748968f.png\n",
            "33317fc2a.png\n",
            "33448fe39.png\n",
            "38c054379.png\n",
            "338c7e907.png\n",
            "32c86784b.png\n",
            "30ad31220.png\n",
            "31fcdc161.png\n",
            "2e86f1085.png\n",
            "31f3dd81f.png\n",
            "35cf9fa01.png\n",
            "79e5ea8fa.png\n",
            "2d992d1fb.png\n",
            "2dd5cfba9.png\n",
            "288564c76.png\n",
            "34dd57ca9.png\n",
            "29f49cd0b.png\n",
            "26e7ae885.png\n",
            "2d5058a59.png\n",
            "2ea664465.png\n",
            "29bab7cad.png\n",
            "2a5064f19.png\n",
            "2bd74d2da.png\n",
            "2d9c798f9.png\n",
            "2b55a2da2.png\n",
            "3526b05cc.png\n",
            "270b939cf.png\n",
            "29ce426a1.png\n",
            "2ff5cb348.png\n",
            "2406d6c99.png\n",
            "26852751a.png\n",
            "20f983a71.png\n",
            "258b1183c.png\n",
            "239bdf640.png\n",
            "2a667e099.png\n",
            "241e6935a.png\n",
            "23e480e64.png\n",
            "2df78338c.png\n",
            "248436078.png\n",
            "24d78df74.png\n",
            "279df95f2.png\n",
            "24d36c52c.png\n",
            "25cf6eb73.png\n",
            "20ea96bcc.png\n",
            "223e4af09.png\n",
            "23bc8ec4f.png\n",
            "24a058589.png\n",
            "1f290e016.png\n",
            "22e79540f.png\n",
            "24c94a6ca.png\n",
            "2693e5c65.png\n",
            "2126dc71b.png\n",
            "24dbc3b21.png\n",
            "25a4c427e.png\n",
            "25fa8d109.png\n",
            "78750e0ff.png\n",
            "1e095a7e1.png\n",
            "219fd68d5.png\n",
            "9a3f20121.png\n",
            "1d0cbd819.png\n",
            "c60e91e07.png\n",
            "1f5e5554e.png\n",
            "1f3f44563.png\n",
            "1be0713da.png\n",
            "22fbf13d6.png\n",
            "1fefb54b7.png\n",
            "205df1df3.png\n",
            "1dc7c45df.png\n",
            "20817c846.png\n",
            "20e562fd5.png\n",
            "1c680883c.png\n",
            "1d48b7564.png\n",
            "1b6a6494d.png\n",
            "1cfd91582.png\n",
            "17d5e5ac4.png\n",
            "19618ad6a.png\n",
            "17a78fb44.png\n",
            "1d321253f.png\n",
            "1c52ea820.png\n",
            "19b51843a.png\n",
            "187668bde.png\n",
            "1d56351b2.png\n",
            "1926e82fd.png\n",
            "177d7e2a4.png\n",
            "19e58cc5e.png\n",
            "165681fd9.png\n",
            "19fdf19fb.png\n",
            "1b490196c.png\n",
            "1821eb11a.png\n",
            "1bf9b94a6.png\n",
            "1694a70e4.png\n",
            "17529c555.png\n",
            "122913909.png\n",
            "115f93ecc.png\n",
            "16fd2e01a.png\n",
            "1459e96a0.png\n",
            "11d3f68ff.png\n",
            "1758a1baf.png\n",
            "16467a950.png\n",
            "14bb43eee.png\n",
            "126a71ce0.png\n",
            "1364b297a.png\n",
            "1376f3b63.png\n",
            "13b9fa92d.png\n",
            "12625488b.png\n",
            "1623fb9e1.png\n",
            "16357b436.png\n",
            "0f6cbe5e8.png\n",
            "172f9b10b.png\n",
            "1312065a5.png\n",
            "0fb233ad6.png\n",
            "116b136de.png\n",
            "003d61042.png\n",
            "00ef713a8.png\n",
            "148bbda66.png\n",
            "1541bdb2e.png\n",
            "03566743d.png\n",
            "02cfeb38d.png\n",
            "00d090cde.png\n",
            "0e8492cb1.png\n",
            "1191ba346.png\n",
            "0021e90e4.png\n",
            "05341a8a6.png\n",
            "0086a6340.png\n",
            "0ee4ad224.png\n",
            "03ef36742.png\n",
            "0ebf8f2f4.png\n",
            "00c47e980.png\n",
            "0d31e6602.png\n",
            "0c51bf229.png\n",
            "043449b0b.png\n",
            "01291174f.png\n",
            "0437393b1.png\n",
            "026716f9b.png\n",
            "060450d79.png\n",
            "04814f36d.png\n",
            "085974290.png\n",
            "0bf7bfb05.png\n",
            "089ad62a7.png\n",
            "007b3da8b.png\n",
            "0ae6668fa.png\n",
            "0a64e3e6c.png\n",
            "0ad9e7dfb.png\n",
            "0c45ace27.png\n",
            "0885e7690.png\n",
            "0c5f6c493.png\n",
            "0c4199daa.png\n",
            "0d117d910.png\n",
            "099b961ec.png\n",
            "08d591441.png\n",
            "0c27cf05f.png\n",
            "03e322a29.png\n",
            "03a2ee656.png\n",
            "0dba99002.png\n",
            "0caeda5df.png\n",
            "060f1dc84.png\n",
            "c6b76307d.png\n",
            "976e4e079.png\n",
            "770a265f5.png\n",
            "a74bf916d.png\n",
            "06d12f6fa.png\n",
            "97844bfd5.png\n",
            "974959ec1.png\n",
            "071cb3ece.png\n",
            "0751c0bbc.png\n",
            "7615e52d3.png\n",
            "a74d475c2.png\n",
            "c50335991.png\n",
            "96f14d90c.png\n",
            "c6c8d4ba0.png\n",
            "958bb9e96.png\n",
            "a4b61a4ea.png\n",
            "a5db42f7d.png\n",
            "0911d3dee.png\n",
            "063363305.png\n",
            "0625f063b.png\n",
            "98062cd87.png\n",
            "785a73ab8.png\n",
            "07e62f903.png\n",
            "c5078bac5.png\n",
            "a3d0031fd.png\n",
            "a3b375b34.png\n",
            "c0d9e170b.png\n",
            "a169b71e7.png\n",
            "c63da993b.png\n",
            "a800caead.png\n",
            "c26ccf73c.png\n",
            "a19c3faca.png\n",
            "96ecad7a1.png\n",
            "a7bd7cadb.png\n",
            "a2c89c367.png\n",
            "c4ed8ed38.png\n",
            "a2b703e21.png\n",
            "c5e419015.png\n",
            "c10db7ae2.png\n",
            "a1da8be3c.png\n",
            "a544fc46d.png\n",
            "c0f5d9ac8.png\n",
            "a254d71f6.png\n",
            "c10ccbd82.png\n",
            "c35efa095.png\n",
            "bfab3e3d0.png\n",
            "a38b8a581.png\n",
            "c069fc3fa.png\n",
            "bf66b9cd2.png\n",
            "9c8b08a24.png\n",
            "bf3924a57.png\n",
            "a0f37c726.png\n",
            "a1e0a6c02.png\n",
            "a0b393945.png\n",
            "c0bc3997b.png\n",
            "9df3275da.png\n",
            "c2de6020a.png\n",
            "a2d25b4f3.png\n",
            "c06e7c748.png\n",
            "a35fd6fbb.png\n",
            "c1ecff98b.png\n",
            "a276c65f7.png\n",
            "8e4eaeec0.png\n",
            "8c9953903.png\n",
            "8e2e5604e.png\n",
            "beebe5f4e.png\n",
            "88d8a4508.png\n",
            "8dbb8e1b9.png\n",
            "8c98a6e9b.png\n",
            "bea23d9f8.png\n",
            "8ca6140ca.png\n",
            "8cf2e3e6c.png\n",
            "8bc0261c9.png\n",
            "8a8d6c712.png\n",
            "8b043093d.png\n",
            "9d79a1f0c.png\n",
            "c0461776c.png\n",
            "bffc08672.png\n",
            "8cf909eb3.png\n",
            "dabea05f4.png\n",
            "862b8e7a0.png\n",
            "dd9f36df7.png\n",
            "dcd7ff249.png\n",
            "8a32d0bfa.png\n",
            "897e5a8de.png\n",
            "df11d56a7.png\n",
            "8916793ce.png\n",
            "8b9144917.png\n",
            "866be78b0.png\n",
            "892e9d6c6.png\n",
            "8a30b2de3.png\n",
            "dce2f6612.png\n",
            "8b27bfd2b.png\n",
            "dabe3e5be.png\n",
            "da9ef7858.png\n",
            "8a4d3a1b1.png\n",
            "da713c465.png\n",
            "da4ed3a28.png\n",
            "856f2910a.png\n",
            "88ac6df54.png\n",
            "8ab8a958b.png\n",
            "dc4cd56a3.png\n",
            "dc55449b2.png\n",
            "d7017f701.png\n",
            "dd5ec63d9.png\n",
            "d84d37a61.png\n",
            "d93c7ab6d.png\n",
            "d9c50616e.png\n",
            "d689256be.png\n",
            "d89db156f.png\n",
            "d563be369.png\n",
            "d6d80a321.png\n",
            "d6d31dcbe.png\n",
            "d668409ff.png\n",
            "d6c8c3c48.png\n",
            "d5f7dd60a.png\n",
            "da231c97f.png\n",
            "4.303234100341797  seconds\n"
          ],
          "name": "stdout"
        }
      ]
    },
    {
      "cell_type": "code",
      "metadata": {
        "id": "CahlxFhPZxkL"
      },
      "source": [
        "testImg = testImg[-2]"
      ],
      "execution_count": 119,
      "outputs": []
    },
    {
      "cell_type": "code",
      "metadata": {
        "id": "T9OdpBI4eZkP",
        "outputId": "c2098433-a32a-43d8-c4a0-632672703b83",
        "colab": {
          "base_uri": "https://localhost:8080/"
        }
      },
      "source": [
        "len(testImg)"
      ],
      "execution_count": 123,
      "outputs": [
        {
          "output_type": "execute_result",
          "data": {
            "text/plain": [
              "342"
            ]
          },
          "metadata": {
            "tags": []
          },
          "execution_count": 123
        }
      ]
    },
    {
      "cell_type": "code",
      "metadata": {
        "id": "xZ6Hr8QAXMeA",
        "outputId": "5501e40e-0900-4348-d319-20d590ac8b4e",
        "colab": {
          "base_uri": "https://localhost:8080/",
          "height": 269
        }
      },
      "source": [
        "for i in range(12):\n",
        "  plt.subplot(3,4, i+1)\n",
        "  plt.imshow(testImg[i])"
      ],
      "execution_count": 122,
      "outputs": [
        {
          "output_type": "display_data",
          "data": {
            "image/png": "[encoded data removed]",
            "text/plain": [
              "<Figure size 432x288 with 12 Axes>"
            ]
          },
          "metadata": {
            "tags": [],
            "needs_background": "light"
          }
        }
      ]
    },
    {
      "cell_type": "code",
      "metadata": {
        "colab": {
          "base_uri": "https://localhost:8080/",
          "height": 35
        },
        "id": "rbDwG38KnMLX",
        "outputId": "428a72f1-328a-4b83-ca9e-5ccfd093fec9"
      },
      "source": [
        "trainImagesPaths[1] # gives the path to the first image"
      ],
      "execution_count": 10,
      "outputs": [
        {
          "output_type": "execute_result",
          "data": {
            "application/vnd.google.colaboratory.intrinsic+json": {
              "type": "string"
            },
            "text/plain": [
              "'/content/drive/MyDrive/AIML/Projects/CNN/PlantSeedling/Part1/train/Black-grass/fc1001932.png'"
            ]
          },
          "metadata": {
            "tags": []
          },
          "execution_count": 10
        }
      ]
    },
    {
      "cell_type": "code",
      "metadata": {
        "id": "l9h0KKsdjNdz"
      },
      "source": [
        "trainImgNParray = np.asarray(trainImg) # create an array of all the images (not the paths)\n",
        "trainlabel = pd.DataFrame(trainImagesCategories) # dataframe of all the categories matching each image"
      ],
      "execution_count": 11,
      "outputs": []
    },
    {
      "cell_type": "code",
      "metadata": {
        "colab": {
          "base_uri": "https://localhost:8080/"
        },
        "id": "PQT8J2aKAVLW",
        "outputId": "7be5a199-2390-4c9d-e981-8b91489fd774"
      },
      "source": [
        "# check the length of the training images for confirmation\n",
        "len(trainImgNParray)"
      ],
      "execution_count": 12,
      "outputs": [
        {
          "output_type": "execute_result",
          "data": {
            "text/plain": [
              "4766"
            ]
          },
          "metadata": {
            "tags": []
          },
          "execution_count": 12
        }
      ]
    },
    {
      "cell_type": "code",
      "metadata": {
        "colab": {
          "base_uri": "https://localhost:8080/"
        },
        "id": "ADa6A2YxAZM4",
        "outputId": "a0946cdf-4930-406b-c1f3-e1155464e430"
      },
      "source": [
        "# check the length of labels for confirmation\n",
        "len(trainlabel)"
      ],
      "execution_count": 13,
      "outputs": [
        {
          "output_type": "execute_result",
          "data": {
            "text/plain": [
              "4766"
            ]
          },
          "metadata": {
            "tags": []
          },
          "execution_count": 13
        }
      ]
    },
    {
      "cell_type": "code",
      "metadata": {
        "colab": {
          "base_uri": "https://localhost:8080/"
        },
        "id": "Dat3gDgPAciw",
        "outputId": "64561f7d-e9c7-4846-9e94-23a2f8ddd873"
      },
      "source": [
        "# checking the shape of the first image.\n",
        "trainImgNParray[1].shape"
      ],
      "execution_count": 14,
      "outputs": [
        {
          "output_type": "execute_result",
          "data": {
            "text/plain": [
              "(71, 71, 3)"
            ]
          },
          "metadata": {
            "tags": []
          },
          "execution_count": 14
        }
      ]
    },
    {
      "cell_type": "code",
      "metadata": {
        "colab": {
          "base_uri": "https://localhost:8080/"
        },
        "id": "z7PvsqbZAdGC",
        "outputId": "ff9b13b0-9e47-487f-a36a-bbfa97206cea"
      },
      "source": [
        "type(trainImgNParray) # verifing the data type"
      ],
      "execution_count": 15,
      "outputs": [
        {
          "output_type": "execute_result",
          "data": {
            "text/plain": [
              "numpy.ndarray"
            ]
          },
          "metadata": {
            "tags": []
          },
          "execution_count": 15
        }
      ]
    },
    {
      "cell_type": "code",
      "metadata": {
        "colab": {
          "base_uri": "https://localhost:8080/"
        },
        "id": "UWcW1y5VAdk-",
        "outputId": "d4fd9512-a148-44d0-fac4-8a7b8575cf7b"
      },
      "source": [
        "len(trainImagesPaths)"
      ],
      "execution_count": 16,
      "outputs": [
        {
          "output_type": "execute_result",
          "data": {
            "text/plain": [
              "4766"
            ]
          },
          "metadata": {
            "tags": []
          },
          "execution_count": 16
        }
      ]
    },
    {
      "cell_type": "code",
      "metadata": {
        "colab": {
          "base_uri": "https://localhost:8080/"
        },
        "id": "UTber5L9Ad5w",
        "outputId": "802fddd6-018c-4dd7-d61c-98ffc8135333"
      },
      "source": [
        "print(trainImagesPaths[0:5])"
      ],
      "execution_count": 17,
      "outputs": [
        {
          "output_type": "stream",
          "text": [
            "['/content/drive/MyDrive/AIML/Projects/CNN/PlantSeedling/Part1/train/Black-grass/fab809601.png', '/content/drive/MyDrive/AIML/Projects/CNN/PlantSeedling/Part1/train/Black-grass/fc1001932.png', '/content/drive/MyDrive/AIML/Projects/CNN/PlantSeedling/Part1/train/Black-grass/fef14b865.png', '/content/drive/MyDrive/AIML/Projects/CNN/PlantSeedling/Part1/train/Black-grass/f39ddbe0a.png', '/content/drive/MyDrive/AIML/Projects/CNN/PlantSeedling/Part1/train/Black-grass/fb487c5a4.png']\n"
          ],
          "name": "stdout"
        }
      ]
    },
    {
      "cell_type": "code",
      "metadata": {
        "colab": {
          "base_uri": "https://localhost:8080/",
          "height": 269
        },
        "id": "7XFl8haoAeLG",
        "outputId": "d82fd957-2d27-43bc-fd7a-8e1d7cfbb258"
      },
      "source": [
        "for i in range(12):\n",
        "  plt.subplot(3,4, i+1)\n",
        "  plt.imshow(trainImg[i])"
      ],
      "execution_count": 18,
      "outputs": [
        {
          "output_type": "display_data",
          "data": {
            "image/png": "[encoded data removed]",
            "text/plain": [
              "<Figure size 432x288 with 12 Axes>"
            ]
          },
          "metadata": {
            "tags": [],
            "needs_background": "light"
          }
        }
      ]
    },
    {
      "cell_type": "code",
      "metadata": {
        "colab": {
          "base_uri": "https://localhost:8080/",
          "height": 285
        },
        "id": "QGPX5PYuAeZa",
        "outputId": "1ce12d04-a24a-4dac-c6cd-5cacad40b476"
      },
      "source": [
        "plt.imshow(trainImg[3])"
      ],
      "execution_count": 19,
      "outputs": [
        {
          "output_type": "execute_result",
          "data": {
            "text/plain": [
              "<matplotlib.image.AxesImage at 0x7f920585e7d0>"
            ]
          },
          "metadata": {
            "tags": []
          },
          "execution_count": 19
        },
        {
          "output_type": "display_data",
          "data": {
            "image/png": "[encoded data removed]",
            "text/plain": [
              "<Figure size 432x288 with 1 Axes>"
            ]
          },
          "metadata": {
            "tags": [],
            "needs_background": "light"
          }
        }
      ]
    },
    {
      "cell_type": "code",
      "metadata": {
        "colab": {
          "base_uri": "https://localhost:8080/"
        },
        "id": "X6woIu3OAems",
        "outputId": "6ed185c5-476d-412f-8597-14097eb28c86"
      },
      "source": [
        "im = trainImg[3]\n",
        "im.shape"
      ],
      "execution_count": 20,
      "outputs": [
        {
          "output_type": "execute_result",
          "data": {
            "text/plain": [
              "(71, 71, 3)"
            ]
          },
          "metadata": {
            "tags": []
          },
          "execution_count": 20
        }
      ]
    },
    {
      "cell_type": "code",
      "metadata": {
        "colab": {
          "base_uri": "https://localhost:8080/",
          "height": 35
        },
        "id": "BIszl4fJAeys",
        "outputId": "4101f0b9-e063-4719-e56b-0585fd0278ad"
      },
      "source": [
        "trainArray[7][0]"
      ],
      "execution_count": 21,
      "outputs": [
        {
          "output_type": "execute_result",
          "data": {
            "application/vnd.google.colaboratory.intrinsic+json": {
              "type": "string"
            },
            "text/plain": [
              "'/content/drive/MyDrive/AIML/Projects/CNN/PlantSeedling/Part1/train/Black-grass/f84089a55.png'"
            ]
          },
          "metadata": {
            "tags": []
          },
          "execution_count": 21
        }
      ]
    },
    {
      "cell_type": "code",
      "metadata": {
        "colab": {
          "base_uri": "https://localhost:8080/",
          "height": 35
        },
        "id": "IVryHtLrBNq3",
        "outputId": "66fb28d9-eded-4812-fccc-faa72260794a"
      },
      "source": [
        "trainArray[7][1]"
      ],
      "execution_count": 22,
      "outputs": [
        {
          "output_type": "execute_result",
          "data": {
            "application/vnd.google.colaboratory.intrinsic+json": {
              "type": "string"
            },
            "text/plain": [
              "'Black-grass'"
            ]
          },
          "metadata": {
            "tags": []
          },
          "execution_count": 22
        }
      ]
    },
    {
      "cell_type": "code",
      "metadata": {
        "colab": {
          "base_uri": "https://localhost:8080/"
        },
        "id": "hpfSThvMC5w9",
        "outputId": "4e15ca09-f5f4-4b61-b871-fd2eba42307d"
      },
      "source": [
        "trainArray[8]\n"
      ],
      "execution_count": 25,
      "outputs": [
        {
          "output_type": "execute_result",
          "data": {
            "text/plain": [
              "['/content/drive/MyDrive/AIML/Projects/CNN/PlantSeedling/Part1/train/Black-grass/f5ca3d442.png',\n",
              " 'Black-grass']"
            ]
          },
          "metadata": {
            "tags": []
          },
          "execution_count": 25
        }
      ]
    },
    {
      "cell_type": "code",
      "metadata": {
        "colab": {
          "base_uri": "https://localhost:8080/"
        },
        "id": "v3SCsTBWBNni",
        "outputId": "6621dfb0-421c-4413-c08a-a9155baecea6"
      },
      "source": [
        "trainImgNParray.shape"
      ],
      "execution_count": 26,
      "outputs": [
        {
          "output_type": "execute_result",
          "data": {
            "text/plain": [
              "(4766, 71, 71, 3)"
            ]
          },
          "metadata": {
            "tags": []
          },
          "execution_count": 26
        }
      ]
    },
    {
      "cell_type": "code",
      "metadata": {
        "colab": {
          "base_uri": "https://localhost:8080/"
        },
        "id": "dhO650iABNh-",
        "outputId": "d6538d33-b4de-420e-da30-65e4e5004e3c"
      },
      "source": [
        "trainlabel.shape"
      ],
      "execution_count": 27,
      "outputs": [
        {
          "output_type": "execute_result",
          "data": {
            "text/plain": [
              "(4766, 1)"
            ]
          },
          "metadata": {
            "tags": []
          },
          "execution_count": 27
        }
      ]
    },
    {
      "cell_type": "code",
      "metadata": {
        "colab": {
          "base_uri": "https://localhost:8080/",
          "height": 268
        },
        "id": "_1mt05QvBNXf",
        "outputId": "69068a47-0aca-4e80-c752-2943ebf69d05"
      },
      "source": [
        "clearTrainImg = []\n",
        "examples = []; getEx = True\n",
        "for img in trainImgNParray:\n",
        "    # Use gaussian blur\n",
        "    blurImg = cv2.GaussianBlur(img, (5, 5), 0)   \n",
        "    \n",
        "    # Convert to HSV image\n",
        "    hsvImg = cv2.cvtColor(blurImg, cv2.COLOR_BGR2HSV)  \n",
        "    \n",
        "    # Create mask (parameters - green color range)\n",
        "    lower_green = (25, 40, 50)\n",
        "    upper_green = (75, 255, 255)\n",
        "    mask = cv2.inRange(hsvImg, lower_green, upper_green)  \n",
        "    kernel = cv2.getStructuringElement(cv2.MORPH_ELLIPSE, (11, 11))\n",
        "    mask = cv2.morphologyEx(mask, cv2.MORPH_CLOSE, kernel)\n",
        "    \n",
        "    # Create bool mask\n",
        "    bMask = mask > 0  \n",
        "    \n",
        "    # Apply the mask\n",
        "    clear = np.zeros_like(img, np.uint8)  # Create empty image\n",
        "    clear[bMask] = img[bMask]  # Apply boolean mask to the origin image\n",
        "    \n",
        "    clearTrainImg.append(clear)  # Append image without background\n",
        "    \n",
        "    # Show examples\n",
        "    if getEx:\n",
        "        plt.subplot(2, 3, 1); plt.imshow(img)  # Show the original image\n",
        "        plt.subplot(2, 3, 2); plt.imshow(blurImg)  # Blur image\n",
        "        plt.subplot(2, 3, 3); plt.imshow(hsvImg)  # HSV image\n",
        "        plt.subplot(2, 3, 4); plt.imshow(mask)  # Mask\n",
        "        plt.subplot(2, 3, 5); plt.imshow(bMask)  # Boolean mask\n",
        "        plt.subplot(2, 3, 6); plt.imshow(clear)  # Image without background\n",
        "        getEx = False\n",
        "\n",
        "clearTrainImg = np.asarray(clearTrainImg)"
      ],
      "execution_count": 28,
      "outputs": [
        {
          "output_type": "display_data",
          "data": {
            "image/png": "[encoded data removed]",
            "text/plain": [
              "<Figure size 432x288 with 6 Axes>"
            ]
          },
          "metadata": {
            "tags": [],
            "needs_background": "light"
          }
        }
      ]
    },
    {
      "cell_type": "code",
      "metadata": {
        "id": "EDvk8otzBNHz"
      },
      "source": [
        "# normalize the training data\n",
        "clearTrainImg = clearTrainImg/255"
      ],
      "execution_count": 29,
      "outputs": []
    },
    {
      "cell_type": "code",
      "metadata": {
        "colab": {
          "base_uri": "https://localhost:8080/"
        },
        "id": "N7i5nwZyDQL9",
        "outputId": "09e5cf01-0241-4c9c-8c20-93ce414a2ba0"
      },
      "source": [
        "clearTrainImg"
      ],
      "execution_count": 33,
      "outputs": [
        {
          "output_type": "execute_result",
          "data": {
            "text/plain": [
              "array([[[[0.        , 0.        , 0.        ],\n",
              "         [0.        , 0.        , 0.        ],\n",
              "         [0.        , 0.        , 0.        ],\n",
              "         ...,\n",
              "         [0.        , 0.        , 0.        ],\n",
              "         [0.        , 0.        , 0.        ],\n",
              "         [0.        , 0.        , 0.        ]],\n",
              "\n",
              "        [[0.        , 0.        , 0.        ],\n",
              "         [0.        , 0.        , 0.        ],\n",
              "         [0.        , 0.        , 0.        ],\n",
              "         ...,\n",
              "         [0.        , 0.        , 0.        ],\n",
              "         [0.        , 0.        , 0.        ],\n",
              "         [0.        , 0.        , 0.        ]],\n",
              "\n",
              "        [[0.        , 0.        , 0.        ],\n",
              "         [0.        , 0.        , 0.        ],\n",
              "         [0.        , 0.        , 0.        ],\n",
              "         ...,\n",
              "         [0.        , 0.        , 0.        ],\n",
              "         [0.        , 0.        , 0.        ],\n",
              "         [0.        , 0.        , 0.        ]],\n",
              "\n",
              "        ...,\n",
              "\n",
              "        [[0.        , 0.        , 0.        ],\n",
              "         [0.        , 0.        , 0.        ],\n",
              "         [0.        , 0.        , 0.        ],\n",
              "         ...,\n",
              "         [0.        , 0.        , 0.        ],\n",
              "         [0.        , 0.        , 0.        ],\n",
              "         [0.        , 0.        , 0.        ]],\n",
              "\n",
              "        [[0.        , 0.        , 0.        ],\n",
              "         [0.        , 0.        , 0.        ],\n",
              "         [0.        , 0.        , 0.        ],\n",
              "         ...,\n",
              "         [0.        , 0.        , 0.        ],\n",
              "         [0.        , 0.        , 0.        ],\n",
              "         [0.        , 0.        , 0.        ]],\n",
              "\n",
              "        [[0.        , 0.        , 0.        ],\n",
              "         [0.        , 0.        , 0.        ],\n",
              "         [0.        , 0.        , 0.        ],\n",
              "         ...,\n",
              "         [0.        , 0.        , 0.        ],\n",
              "         [0.        , 0.        , 0.        ],\n",
              "         [0.        , 0.        , 0.        ]]],\n",
              "\n",
              "\n",
              "       [[[0.        , 0.        , 0.        ],\n",
              "         [0.        , 0.        , 0.        ],\n",
              "         [0.        , 0.        , 0.        ],\n",
              "         ...,\n",
              "         [0.        , 0.        , 0.        ],\n",
              "         [0.        , 0.        , 0.        ],\n",
              "         [0.        , 0.        , 0.        ]],\n",
              "\n",
              "        [[0.        , 0.        , 0.        ],\n",
              "         [0.        , 0.        , 0.        ],\n",
              "         [0.        , 0.        , 0.        ],\n",
              "         ...,\n",
              "         [0.        , 0.        , 0.        ],\n",
              "         [0.        , 0.        , 0.        ],\n",
              "         [0.        , 0.        , 0.        ]],\n",
              "\n",
              "        [[0.        , 0.        , 0.        ],\n",
              "         [0.        , 0.        , 0.        ],\n",
              "         [0.        , 0.        , 0.        ],\n",
              "         ...,\n",
              "         [0.        , 0.        , 0.        ],\n",
              "         [0.        , 0.        , 0.        ],\n",
              "         [0.        , 0.        , 0.        ]],\n",
              "\n",
              "        ...,\n",
              "\n",
              "        [[0.        , 0.        , 0.        ],\n",
              "         [0.        , 0.        , 0.        ],\n",
              "         [0.        , 0.        , 0.        ],\n",
              "         ...,\n",
              "         [0.        , 0.        , 0.        ],\n",
              "         [0.        , 0.        , 0.        ],\n",
              "         [0.        , 0.        , 0.        ]],\n",
              "\n",
              "        [[0.        , 0.        , 0.        ],\n",
              "         [0.        , 0.        , 0.        ],\n",
              "         [0.        , 0.        , 0.        ],\n",
              "         ...,\n",
              "         [0.        , 0.        , 0.        ],\n",
              "         [0.        , 0.        , 0.        ],\n",
              "         [0.        , 0.        , 0.        ]],\n",
              "\n",
              "        [[0.        , 0.        , 0.        ],\n",
              "         [0.        , 0.        , 0.        ],\n",
              "         [0.        , 0.        , 0.        ],\n",
              "         ...,\n",
              "         [0.        , 0.        , 0.        ],\n",
              "         [0.        , 0.        , 0.        ],\n",
              "         [0.        , 0.        , 0.        ]]],\n",
              "\n",
              "\n",
              "       [[[0.        , 0.        , 0.        ],\n",
              "         [0.        , 0.        , 0.        ],\n",
              "         [0.        , 0.        , 0.        ],\n",
              "         ...,\n",
              "         [0.        , 0.        , 0.        ],\n",
              "         [0.        , 0.        , 0.        ],\n",
              "         [0.        , 0.        , 0.        ]],\n",
              "\n",
              "        [[0.        , 0.        , 0.        ],\n",
              "         [0.        , 0.        , 0.        ],\n",
              "         [0.        , 0.        , 0.        ],\n",
              "         ...,\n",
              "         [0.        , 0.        , 0.        ],\n",
              "         [0.        , 0.        , 0.        ],\n",
              "         [0.        , 0.        , 0.        ]],\n",
              "\n",
              "        [[0.        , 0.        , 0.        ],\n",
              "         [0.        , 0.        , 0.        ],\n",
              "         [0.        , 0.        , 0.        ],\n",
              "         ...,\n",
              "         [0.        , 0.        , 0.        ],\n",
              "         [0.        , 0.        , 0.        ],\n",
              "         [0.        , 0.        , 0.        ]],\n",
              "\n",
              "        ...,\n",
              "\n",
              "        [[0.        , 0.        , 0.        ],\n",
              "         [0.        , 0.        , 0.        ],\n",
              "         [0.        , 0.        , 0.        ],\n",
              "         ...,\n",
              "         [0.10980392, 0.14117647, 0.21568627],\n",
              "         [0.        , 0.        , 0.        ],\n",
              "         [0.17254902, 0.28627451, 0.25490196]],\n",
              "\n",
              "        [[0.        , 0.        , 0.        ],\n",
              "         [0.        , 0.        , 0.        ],\n",
              "         [0.        , 0.        , 0.        ],\n",
              "         ...,\n",
              "         [0.14509804, 0.25882353, 0.25882353],\n",
              "         [0.1372549 , 0.2627451 , 0.22352941],\n",
              "         [0.11372549, 0.22745098, 0.20784314]],\n",
              "\n",
              "        [[0.        , 0.        , 0.        ],\n",
              "         [0.        , 0.        , 0.        ],\n",
              "         [0.        , 0.        , 0.        ],\n",
              "         ...,\n",
              "         [0.09411765, 0.21960784, 0.21960784],\n",
              "         [0.0745098 , 0.2627451 , 0.23137255],\n",
              "         [0.16470588, 0.25098039, 0.28235294]]],\n",
              "\n",
              "\n",
              "       ...,\n",
              "\n",
              "\n",
              "       [[[0.        , 0.        , 0.        ],\n",
              "         [0.        , 0.        , 0.        ],\n",
              "         [0.        , 0.        , 0.        ],\n",
              "         ...,\n",
              "         [0.        , 0.        , 0.        ],\n",
              "         [0.        , 0.        , 0.        ],\n",
              "         [0.        , 0.        , 0.        ]],\n",
              "\n",
              "        [[0.        , 0.        , 0.        ],\n",
              "         [0.        , 0.        , 0.        ],\n",
              "         [0.        , 0.        , 0.        ],\n",
              "         ...,\n",
              "         [0.        , 0.        , 0.        ],\n",
              "         [0.        , 0.        , 0.        ],\n",
              "         [0.        , 0.        , 0.        ]],\n",
              "\n",
              "        [[0.        , 0.        , 0.        ],\n",
              "         [0.        , 0.        , 0.        ],\n",
              "         [0.        , 0.        , 0.        ],\n",
              "         ...,\n",
              "         [0.        , 0.        , 0.        ],\n",
              "         [0.        , 0.        , 0.        ],\n",
              "         [0.        , 0.        , 0.        ]],\n",
              "\n",
              "        ...,\n",
              "\n",
              "        [[0.        , 0.        , 0.        ],\n",
              "         [0.        , 0.        , 0.        ],\n",
              "         [0.        , 0.        , 0.        ],\n",
              "         ...,\n",
              "         [0.        , 0.        , 0.        ],\n",
              "         [0.        , 0.        , 0.        ],\n",
              "         [0.        , 0.        , 0.        ]],\n",
              "\n",
              "        [[0.        , 0.        , 0.        ],\n",
              "         [0.        , 0.        , 0.        ],\n",
              "         [0.        , 0.        , 0.        ],\n",
              "         ...,\n",
              "         [0.        , 0.        , 0.        ],\n",
              "         [0.        , 0.        , 0.        ],\n",
              "         [0.        , 0.        , 0.        ]],\n",
              "\n",
              "        [[0.        , 0.        , 0.        ],\n",
              "         [0.        , 0.        , 0.        ],\n",
              "         [0.        , 0.        , 0.        ],\n",
              "         ...,\n",
              "         [0.        , 0.        , 0.        ],\n",
              "         [0.        , 0.        , 0.        ],\n",
              "         [0.        , 0.        , 0.        ]]],\n",
              "\n",
              "\n",
              "       [[[0.        , 0.        , 0.        ],\n",
              "         [0.        , 0.        , 0.        ],\n",
              "         [0.        , 0.        , 0.        ],\n",
              "         ...,\n",
              "         [0.        , 0.        , 0.        ],\n",
              "         [0.        , 0.        , 0.        ],\n",
              "         [0.        , 0.        , 0.        ]],\n",
              "\n",
              "        [[0.        , 0.        , 0.        ],\n",
              "         [0.        , 0.        , 0.        ],\n",
              "         [0.        , 0.        , 0.        ],\n",
              "         ...,\n",
              "         [0.        , 0.        , 0.        ],\n",
              "         [0.        , 0.        , 0.        ],\n",
              "         [0.        , 0.        , 0.        ]],\n",
              "\n",
              "        [[0.        , 0.        , 0.        ],\n",
              "         [0.        , 0.        , 0.        ],\n",
              "         [0.        , 0.        , 0.        ],\n",
              "         ...,\n",
              "         [0.        , 0.        , 0.        ],\n",
              "         [0.        , 0.        , 0.        ],\n",
              "         [0.        , 0.        , 0.        ]],\n",
              "\n",
              "        ...,\n",
              "\n",
              "        [[0.        , 0.        , 0.        ],\n",
              "         [0.        , 0.        , 0.        ],\n",
              "         [0.        , 0.        , 0.        ],\n",
              "         ...,\n",
              "         [0.        , 0.        , 0.        ],\n",
              "         [0.        , 0.        , 0.        ],\n",
              "         [0.        , 0.        , 0.        ]],\n",
              "\n",
              "        [[0.        , 0.        , 0.        ],\n",
              "         [0.        , 0.        , 0.        ],\n",
              "         [0.        , 0.        , 0.        ],\n",
              "         ...,\n",
              "         [0.        , 0.        , 0.        ],\n",
              "         [0.        , 0.        , 0.        ],\n",
              "         [0.        , 0.        , 0.        ]],\n",
              "\n",
              "        [[0.        , 0.        , 0.        ],\n",
              "         [0.        , 0.        , 0.        ],\n",
              "         [0.        , 0.        , 0.        ],\n",
              "         ...,\n",
              "         [0.        , 0.        , 0.        ],\n",
              "         [0.        , 0.        , 0.        ],\n",
              "         [0.        , 0.        , 0.        ]]],\n",
              "\n",
              "\n",
              "       [[[0.        , 0.        , 0.        ],\n",
              "         [0.        , 0.        , 0.        ],\n",
              "         [0.        , 0.        , 0.        ],\n",
              "         ...,\n",
              "         [0.        , 0.        , 0.        ],\n",
              "         [0.        , 0.        , 0.        ],\n",
              "         [0.        , 0.        , 0.        ]],\n",
              "\n",
              "        [[0.        , 0.        , 0.        ],\n",
              "         [0.        , 0.        , 0.        ],\n",
              "         [0.        , 0.        , 0.        ],\n",
              "         ...,\n",
              "         [0.        , 0.        , 0.        ],\n",
              "         [0.        , 0.        , 0.        ],\n",
              "         [0.        , 0.        , 0.        ]],\n",
              "\n",
              "        [[0.        , 0.        , 0.        ],\n",
              "         [0.        , 0.        , 0.        ],\n",
              "         [0.        , 0.        , 0.        ],\n",
              "         ...,\n",
              "         [0.        , 0.        , 0.        ],\n",
              "         [0.        , 0.        , 0.        ],\n",
              "         [0.        , 0.        , 0.        ]],\n",
              "\n",
              "        ...,\n",
              "\n",
              "        [[0.        , 0.        , 0.        ],\n",
              "         [0.        , 0.        , 0.        ],\n",
              "         [0.        , 0.        , 0.        ],\n",
              "         ...,\n",
              "         [0.        , 0.        , 0.        ],\n",
              "         [0.        , 0.        , 0.        ],\n",
              "         [0.        , 0.        , 0.        ]],\n",
              "\n",
              "        [[0.        , 0.        , 0.        ],\n",
              "         [0.        , 0.        , 0.        ],\n",
              "         [0.        , 0.        , 0.        ],\n",
              "         ...,\n",
              "         [0.        , 0.        , 0.        ],\n",
              "         [0.        , 0.        , 0.        ],\n",
              "         [0.        , 0.        , 0.        ]],\n",
              "\n",
              "        [[0.        , 0.        , 0.        ],\n",
              "         [0.        , 0.        , 0.        ],\n",
              "         [0.        , 0.        , 0.        ],\n",
              "         ...,\n",
              "         [0.        , 0.        , 0.        ],\n",
              "         [0.        , 0.        , 0.        ],\n",
              "         [0.        , 0.        , 0.        ]]]])"
            ]
          },
          "metadata": {
            "tags": []
          },
          "execution_count": 33
        }
      ]
    },
    {
      "cell_type": "code",
      "metadata": {
        "colab": {
          "base_uri": "https://localhost:8080/"
        },
        "id": "SoqgCT7hutdf",
        "outputId": "a0bdf4e5-c00b-4a69-9629-020b417d3b4c"
      },
      "source": [
        "encodeTrainLabels.shape\n"
      ],
      "execution_count": 81,
      "outputs": [
        {
          "output_type": "execute_result",
          "data": {
            "text/plain": [
              "(4766,)"
            ]
          },
          "metadata": {
            "tags": []
          },
          "execution_count": 81
        }
      ]
    },
    {
      "cell_type": "code",
      "metadata": {
        "colab": {
          "base_uri": "https://localhost:8080/",
          "height": 471
        },
        "id": "_g5Z_byOBl31",
        "outputId": "1470e9a6-39dc-4a10-f903-1be7064bcd99"
      },
      "source": [
        "# Encode labels and create classes\n",
        "le = preprocessing.LabelEncoder()\n",
        "le.fit(trainlabel[0])\n",
        "print(\"Classes: \" + str(le.classes_))\n",
        "encodeTrainLabels = le.transform(trainlabel[0])\n",
        "\n",
        "# Make labels categorical\n",
        "clearTrainLabel = np_utils.to_categorical(encodeTrainLabels)\n",
        "num_clases = clearTrainLabel.shape[1]\n",
        "print(\"Number of classes: \" + str(num_clases))\n",
        "\n",
        "# Plot of label types numbers\n",
        "trainlabel[0].value_counts().plot(kind='bar')"
      ],
      "execution_count": 34,
      "outputs": [
        {
          "output_type": "stream",
          "text": [
            "Classes: ['Black-grass' 'Charlock' 'Cleavers' 'Common Chickweed' 'Common wheat'\n",
            " 'Fat Hen' 'Loose Silky-bent' 'Maize' 'Scentless Mayweed'\n",
            " 'Shepherds Purse' 'Small-flowered Cranesbill' 'Sugar beet']\n",
            "Number of classes: 12\n"
          ],
          "name": "stdout"
        },
        {
          "output_type": "execute_result",
          "data": {
            "text/plain": [
              "<matplotlib.axes._subplots.AxesSubplot at 0x7f9203f7af10>"
            ]
          },
          "metadata": {
            "tags": []
          },
          "execution_count": 34
        },
        {
          "output_type": "display_data",
          "data": {
            "image/png": "[encoded data removed]",
            "text/plain": [
              "<Figure size 432x288 with 1 Axes>"
            ]
          },
          "metadata": {
            "tags": [],
            "needs_background": "light"
          }
        }
      ]
    },
    {
      "cell_type": "code",
      "metadata": {
        "colab": {
          "base_uri": "https://localhost:8080/"
        },
        "id": "oUsaJFkOBtdm",
        "outputId": "8cbe31c8-7b97-4097-8410-9e29f9379aa8"
      },
      "source": [
        "# check the data type of the training images\n",
        "clearTrainImg.dtype"
      ],
      "execution_count": 35,
      "outputs": [
        {
          "output_type": "execute_result",
          "data": {
            "text/plain": [
              "dtype('float64')"
            ]
          },
          "metadata": {
            "tags": []
          },
          "execution_count": 35
        }
      ]
    },
    {
      "cell_type": "code",
      "metadata": {
        "id": "g4RuuTRtCPSq"
      },
      "source": [
        "from sklearn.model_selection import train_test_split\n",
        "trainX, testX, trainY, testY = train_test_split(clearTrainImg, clearTrainLabel, \n",
        "                                                test_size=0.10, random_state=seed, \n",
        "                                                stratify = clearTrainLabel)"
      ],
      "execution_count": 37,
      "outputs": []
    },
    {
      "cell_type": "code",
      "metadata": {
        "colab": {
          "base_uri": "https://localhost:8080/"
        },
        "id": "ea16b_kdFjee",
        "outputId": "efbca33c-9fcf-4698-d4d1-14ca70c83e9f"
      },
      "source": [
        "trainY[0]"
      ],
      "execution_count": 38,
      "outputs": [
        {
          "output_type": "execute_result",
          "data": {
            "text/plain": [
              "array([0., 0., 0., 1., 0., 0., 0., 0., 0., 0., 0., 0.], dtype=float32)"
            ]
          },
          "metadata": {
            "tags": []
          },
          "execution_count": 38
        }
      ]
    },
    {
      "cell_type": "markdown",
      "metadata": {
        "id": "mXafiHH7osLm"
      },
      "source": [
        "#Data Augmentation"
      ]
    },
    {
      "cell_type": "code",
      "metadata": {
        "id": "iWhq_nCNCPPU"
      },
      "source": [
        "from keras.preprocessing.image import ImageDataGenerator\n",
        "datagen = ImageDataGenerator(\n",
        "        rotation_range=180,  # randomly rotate images in the range\n",
        "        zoom_range = 0.1, # Randomly zoom image \n",
        "        width_shift_range=0.1,  # randomly shift images horizontally\n",
        "        height_shift_range=0.1,  # randomly shift images vertically \n",
        "        horizontal_flip=True,  # randomly flip images horizontally\n",
        "        vertical_flip=True  # randomly flip images vertically\n",
        "    )  \n",
        "datagen.fit(trainX)"
      ],
      "execution_count": 39,
      "outputs": []
    },
    {
      "cell_type": "code",
      "metadata": {
        "colab": {
          "base_uri": "https://localhost:8080/"
        },
        "id": "AIExm4Ip6Wka",
        "outputId": "d4e7b598-c246-4042-cbd9-3aad025699fd"
      },
      "source": [
        "model = Sequential() \n",
        "# 2D Convolution layer\n",
        "model.add(layers.Conv2D(32, (3, 3), activation='relu', input_shape=(scaleTo, scaleTo, 3))) \n",
        "model.add(layers.MaxPooling2D((2, 2))) # to downsample the feature maps\n",
        "# 2D Convolution layer\n",
        "model.add(layers.Conv2D(64, (3, 3), activation='relu')) \n",
        "model.add(layers.MaxPooling2D((2, 2)))\n",
        "# 2D Convolution layer\n",
        "model.add(layers.Conv2D(128, (3, 3), activation='relu'))\n",
        "model.add(layers.MaxPooling2D((2, 2)))\n",
        "# 2D Convolution layer\n",
        "model.add(layers.Conv2D(128, (3, 3), activation='relu'))\n",
        "model.add(layers.MaxPooling2D((2, 2))) \n",
        "model.add(layers.Flatten()) \n",
        "model.add(layers.Dense(64, activation='relu'))\n",
        "\n",
        "#Add Output Layer\n",
        "model.add(layers.Dense(num_clases, activation='softmax'))\n",
        "\n",
        "\n",
        "model.compile(loss='categorical_crossentropy', optimizer='adam', metrics=['accuracy'])\n",
        "\n",
        "model_B = model\n",
        "model_B.summary()"
      ],
      "execution_count": 41,
      "outputs": [
        {
          "output_type": "stream",
          "text": [
            "Model: \"sequential_1\"\n",
            "_________________________________________________________________\n",
            "Layer (type)                 Output Shape              Param #   \n",
            "=================================================================\n",
            "conv2d_5 (Conv2D)            (None, 69, 69, 32)        896       \n",
            "_________________________________________________________________\n",
            "max_pooling2d_4 (MaxPooling2 (None, 34, 34, 32)        0         \n",
            "_________________________________________________________________\n",
            "conv2d_6 (Conv2D)            (None, 32, 32, 64)        18496     \n",
            "_________________________________________________________________\n",
            "max_pooling2d_5 (MaxPooling2 (None, 16, 16, 64)        0         \n",
            "_________________________________________________________________\n",
            "conv2d_7 (Conv2D)            (None, 14, 14, 128)       73856     \n",
            "_________________________________________________________________\n",
            "max_pooling2d_6 (MaxPooling2 (None, 7, 7, 128)         0         \n",
            "_________________________________________________________________\n",
            "conv2d_8 (Conv2D)            (None, 5, 5, 128)         147584    \n",
            "_________________________________________________________________\n",
            "max_pooling2d_7 (MaxPooling2 (None, 2, 2, 128)         0         \n",
            "_________________________________________________________________\n",
            "flatten (Flatten)            (None, 512)               0         \n",
            "_________________________________________________________________\n",
            "dense (Dense)                (None, 64)                32832     \n",
            "_________________________________________________________________\n",
            "dense_1 (Dense)              (None, 12)                780       \n",
            "=================================================================\n",
            "Total params: 274,444\n",
            "Trainable params: 274,444\n",
            "Non-trainable params: 0\n",
            "_________________________________________________________________\n"
          ],
          "name": "stdout"
        }
      ]
    },
    {
      "cell_type": "code",
      "metadata": {
        "colab": {
          "base_uri": "https://localhost:8080/"
        },
        "id": "Rp3efggS7_3d",
        "outputId": "c578a589-4292-4e8c-857e-fa12a6a8c992"
      },
      "source": [
        "t0=time.time()\n",
        "history_B = model_B.fit_generator(datagen.flow(trainX, trainY, batch_size=70), epochs=50, validation_data=(testX, testY), verbose=2)\n",
        "t1=time.time()\n",
        "print(t1-t0,\" seconds\")\n",
        "\n",
        "# Final evaluation of the model\n",
        "scores_B = model_B.evaluate(testX, testY, verbose=0)\n",
        "print(\"Baseline Error: %.2f%%\" % (100-scores_B[1]*100))"
      ],
      "execution_count": 42,
      "outputs": [
        {
          "output_type": "stream",
          "text": [
            "/usr/local/lib/python3.7/dist-packages/tensorflow/python/keras/engine/training.py:1844: UserWarning: `Model.fit_generator` is deprecated and will be removed in a future version. Please use `Model.fit`, which supports generators.\n",
            "  warnings.warn('`Model.fit_generator` is deprecated and '\n"
          ],
          "name": "stderr"
        },
        {
          "output_type": "stream",
          "text": [
            "Epoch 1/50\n",
            "62/62 - 42s - loss: 2.0853 - accuracy: 0.2637 - val_loss: 1.7345 - val_accuracy: 0.3899\n",
            "Epoch 2/50\n",
            "62/62 - 41s - loss: 1.6710 - accuracy: 0.3943 - val_loss: 1.4283 - val_accuracy: 0.4969\n",
            "Epoch 3/50\n",
            "62/62 - 41s - loss: 1.3974 - accuracy: 0.5129 - val_loss: 1.2270 - val_accuracy: 0.5723\n",
            "Epoch 4/50\n",
            "62/62 - 41s - loss: 1.2709 - accuracy: 0.5649 - val_loss: 1.3357 - val_accuracy: 0.5388\n",
            "Epoch 5/50\n",
            "62/62 - 42s - loss: 1.2022 - accuracy: 0.5889 - val_loss: 1.0951 - val_accuracy: 0.6268\n",
            "Epoch 6/50\n",
            "62/62 - 41s - loss: 1.1045 - accuracy: 0.6260 - val_loss: 1.0893 - val_accuracy: 0.6331\n",
            "Epoch 7/50\n",
            "62/62 - 41s - loss: 1.0191 - accuracy: 0.6615 - val_loss: 0.8958 - val_accuracy: 0.7065\n",
            "Epoch 8/50\n",
            "62/62 - 41s - loss: 0.9885 - accuracy: 0.6631 - val_loss: 0.8377 - val_accuracy: 0.7086\n",
            "Epoch 9/50\n",
            "62/62 - 41s - loss: 0.9179 - accuracy: 0.6929 - val_loss: 0.8020 - val_accuracy: 0.7149\n",
            "Epoch 10/50\n",
            "62/62 - 41s - loss: 0.8445 - accuracy: 0.7207 - val_loss: 0.7016 - val_accuracy: 0.7631\n",
            "Epoch 11/50\n",
            "62/62 - 41s - loss: 0.7872 - accuracy: 0.7417 - val_loss: 0.6949 - val_accuracy: 0.7589\n",
            "Epoch 12/50\n",
            "62/62 - 41s - loss: 0.7569 - accuracy: 0.7419 - val_loss: 0.7368 - val_accuracy: 0.7338\n",
            "Epoch 13/50\n",
            "62/62 - 41s - loss: 0.7181 - accuracy: 0.7557 - val_loss: 0.6851 - val_accuracy: 0.7610\n",
            "Epoch 14/50\n",
            "62/62 - 41s - loss: 0.6867 - accuracy: 0.7678 - val_loss: 0.7378 - val_accuracy: 0.7484\n",
            "Epoch 15/50\n",
            "62/62 - 41s - loss: 0.6691 - accuracy: 0.7708 - val_loss: 0.5539 - val_accuracy: 0.8155\n",
            "Epoch 16/50\n",
            "62/62 - 41s - loss: 0.6630 - accuracy: 0.7745 - val_loss: 0.6237 - val_accuracy: 0.7778\n",
            "Epoch 17/50\n",
            "62/62 - 41s - loss: 0.6073 - accuracy: 0.7860 - val_loss: 0.5380 - val_accuracy: 0.8239\n",
            "Epoch 18/50\n",
            "62/62 - 41s - loss: 0.6120 - accuracy: 0.7909 - val_loss: 0.5742 - val_accuracy: 0.8029\n",
            "Epoch 19/50\n",
            "62/62 - 41s - loss: 0.5849 - accuracy: 0.7939 - val_loss: 0.4876 - val_accuracy: 0.8386\n",
            "Epoch 20/50\n",
            "62/62 - 41s - loss: 0.5760 - accuracy: 0.7976 - val_loss: 0.6020 - val_accuracy: 0.7862\n",
            "Epoch 21/50\n",
            "62/62 - 41s - loss: 0.5428 - accuracy: 0.8135 - val_loss: 0.4858 - val_accuracy: 0.8344\n",
            "Epoch 22/50\n",
            "62/62 - 41s - loss: 0.5326 - accuracy: 0.8137 - val_loss: 0.5738 - val_accuracy: 0.8134\n",
            "Epoch 23/50\n",
            "62/62 - 41s - loss: 0.4980 - accuracy: 0.8277 - val_loss: 0.4555 - val_accuracy: 0.8532\n",
            "Epoch 24/50\n",
            "62/62 - 41s - loss: 0.4806 - accuracy: 0.8361 - val_loss: 0.7072 - val_accuracy: 0.7484\n",
            "Epoch 25/50\n",
            "62/62 - 41s - loss: 0.4909 - accuracy: 0.8261 - val_loss: 0.4781 - val_accuracy: 0.8470\n",
            "Epoch 26/50\n",
            "62/62 - 41s - loss: 0.5085 - accuracy: 0.8109 - val_loss: 0.5725 - val_accuracy: 0.8092\n",
            "Epoch 27/50\n",
            "62/62 - 41s - loss: 0.4504 - accuracy: 0.8454 - val_loss: 0.4609 - val_accuracy: 0.8512\n",
            "Epoch 28/50\n",
            "62/62 - 41s - loss: 0.4737 - accuracy: 0.8298 - val_loss: 0.4128 - val_accuracy: 0.8595\n",
            "Epoch 29/50\n",
            "62/62 - 41s - loss: 0.4293 - accuracy: 0.8491 - val_loss: 0.4922 - val_accuracy: 0.8281\n",
            "Epoch 30/50\n",
            "62/62 - 41s - loss: 0.4292 - accuracy: 0.8503 - val_loss: 0.5852 - val_accuracy: 0.8008\n",
            "Epoch 31/50\n",
            "62/62 - 42s - loss: 0.4248 - accuracy: 0.8468 - val_loss: 0.3973 - val_accuracy: 0.8700\n",
            "Epoch 32/50\n",
            "62/62 - 41s - loss: 0.4050 - accuracy: 0.8575 - val_loss: 0.4565 - val_accuracy: 0.8512\n",
            "Epoch 33/50\n",
            "62/62 - 42s - loss: 0.3957 - accuracy: 0.8538 - val_loss: 0.4617 - val_accuracy: 0.8616\n",
            "Epoch 34/50\n",
            "62/62 - 42s - loss: 0.4029 - accuracy: 0.8554 - val_loss: 0.4709 - val_accuracy: 0.8428\n",
            "Epoch 35/50\n",
            "62/62 - 41s - loss: 0.4021 - accuracy: 0.8564 - val_loss: 0.5642 - val_accuracy: 0.8092\n",
            "Epoch 36/50\n",
            "62/62 - 41s - loss: 0.4077 - accuracy: 0.8536 - val_loss: 0.4786 - val_accuracy: 0.8512\n",
            "Epoch 37/50\n",
            "62/62 - 41s - loss: 0.3636 - accuracy: 0.8718 - val_loss: 0.4131 - val_accuracy: 0.8700\n",
            "Epoch 38/50\n",
            "62/62 - 42s - loss: 0.3607 - accuracy: 0.8708 - val_loss: 0.5051 - val_accuracy: 0.8323\n",
            "Epoch 39/50\n",
            "62/62 - 41s - loss: 0.3560 - accuracy: 0.8715 - val_loss: 0.5447 - val_accuracy: 0.8134\n",
            "Epoch 40/50\n",
            "62/62 - 41s - loss: 0.3751 - accuracy: 0.8669 - val_loss: 0.3483 - val_accuracy: 0.8889\n",
            "Epoch 41/50\n",
            "62/62 - 41s - loss: 0.3257 - accuracy: 0.8827 - val_loss: 0.3714 - val_accuracy: 0.8805\n",
            "Epoch 42/50\n",
            "62/62 - 41s - loss: 0.3450 - accuracy: 0.8718 - val_loss: 0.3914 - val_accuracy: 0.8595\n",
            "Epoch 43/50\n",
            "62/62 - 41s - loss: 0.3492 - accuracy: 0.8743 - val_loss: 0.4429 - val_accuracy: 0.8302\n",
            "Epoch 44/50\n",
            "62/62 - 41s - loss: 0.3221 - accuracy: 0.8785 - val_loss: 0.3699 - val_accuracy: 0.8784\n",
            "Epoch 45/50\n",
            "62/62 - 41s - loss: 0.3495 - accuracy: 0.8767 - val_loss: 0.4204 - val_accuracy: 0.8679\n",
            "Epoch 46/50\n",
            "62/62 - 41s - loss: 0.3364 - accuracy: 0.8720 - val_loss: 0.4051 - val_accuracy: 0.8595\n",
            "Epoch 47/50\n",
            "62/62 - 41s - loss: 0.3311 - accuracy: 0.8757 - val_loss: 0.3866 - val_accuracy: 0.8700\n",
            "Epoch 48/50\n",
            "62/62 - 41s - loss: 0.3155 - accuracy: 0.8832 - val_loss: 0.3891 - val_accuracy: 0.8658\n",
            "Epoch 49/50\n",
            "62/62 - 41s - loss: 0.3000 - accuracy: 0.8888 - val_loss: 0.3591 - val_accuracy: 0.8742\n",
            "Epoch 50/50\n",
            "62/62 - 41s - loss: 0.3332 - accuracy: 0.8741 - val_loss: 0.4384 - val_accuracy: 0.8428\n",
            "2064.6523866653442  seconds\n",
            "Baseline Error: 15.72%\n"
          ],
          "name": "stdout"
        }
      ]
    },
    {
      "cell_type": "code",
      "metadata": {
        "colab": {
          "base_uri": "https://localhost:8080/"
        },
        "id": "6XUNCgSz8djH",
        "outputId": "2b48c4eb-6776-45b4-a28d-8812510d25da"
      },
      "source": [
        "print(model_B.evaluate(trainX, trainY))  # Evaluate on train set\n",
        "print(model_B.evaluate(testX, testY))  # Evaluate on test set"
      ],
      "execution_count": 43,
      "outputs": [
        {
          "output_type": "stream",
          "text": [
            "135/135 [==============================] - 10s 73ms/step - loss: 0.3542 - accuracy: 0.8697\n",
            "[0.35421887040138245, 0.869666576385498]\n",
            "15/15 [==============================] - 1s 73ms/step - loss: 0.4384 - accuracy: 0.8428\n",
            "[0.43838226795196533, 0.8427672982215881]\n"
          ],
          "name": "stdout"
        }
      ]
    },
    {
      "cell_type": "code",
      "metadata": {
        "colab": {
          "base_uri": "https://localhost:8080/",
          "height": 281
        },
        "id": "kLIuNHnj8vk-",
        "outputId": "367333fc-a174-45b6-9863-66822209c263"
      },
      "source": [
        "# plot training accuracies\n",
        "plt.plot(history_B.history['accuracy'],'b') #train acc\n",
        "plt.plot(history_B.history['val_accuracy'],'g') #val acc\n",
        "plt.title('Training and Validation Accuracy model_B') \n",
        "plt.show()"
      ],
      "execution_count": 44,
      "outputs": [
        {
          "output_type": "display_data",
          "data": {
            "image/png": "[encoded data removed]",
            "text/plain": [
              "<Figure size 432x288 with 1 Axes>"
            ]
          },
          "metadata": {
            "tags": [],
            "needs_background": "light"
          }
        }
      ]
    },
    {
      "cell_type": "code",
      "metadata": {
        "colab": {
          "base_uri": "https://localhost:8080/",
          "height": 281
        },
        "id": "rh67GQ_g8f-C",
        "outputId": "1e790640-819f-4f2f-85a3-b7b8e64e1d25"
      },
      "source": [
        "# plot training and validation loss\n",
        "plt.plot(history_B.history['loss'],'b') #train loss\n",
        "plt.plot(history_B.history['val_loss'],'g') #val loss\n",
        "plt.title('Training and Validation loss model_B') \n",
        "plt.show()"
      ],
      "execution_count": 45,
      "outputs": [
        {
          "output_type": "display_data",
          "data": {
            "image/png": "[encoded data removed]",
            "text/plain": [
              "<Figure size 432x288 with 1 Axes>"
            ]
          },
          "metadata": {
            "tags": [],
            "needs_background": "light"
          }
        }
      ]
    },
    {
      "cell_type": "code",
      "metadata": {
        "colab": {
          "base_uri": "https://localhost:8080/"
        },
        "id": "e8mLinEMCPJs",
        "outputId": "f6f9ab04-36c3-48dd-a8b4-29712aafe221"
      },
      "source": [
        "model = Sequential()\n",
        "\n",
        "# Input layer and 2D Con\n",
        "model.add(layers.Conv2D(64, (3, 3), activation='relu', input_shape=(scaleTo, scaleTo, 3)))\n",
        "\n",
        "# Max Pool layer \n",
        "# It downsmaples the input representetion within the pool_size size\n",
        "model.add(layers.MaxPool2D(pool_size = (2,2)))\n",
        "\n",
        "# Normalization layer\n",
        "# The layer normalizes its output using the mean and standard deviation of the current batch of inputs.\n",
        "model.add(layers.BatchNormalization())\n",
        "\n",
        "# 2D Convolution layer\n",
        "model.add(layers.Conv2D(64, kernel_size=(3,3), strides = (1,1), activation='relu'))\n",
        "\n",
        "# Max Pool layer \n",
        "model.add(layers.MaxPool2D(pool_size = (2,2)))\n",
        "\n",
        "# Normalization layer\n",
        "model.add(layers.BatchNormalization())\n",
        "\n",
        "# 2D Convolution layer\n",
        "model.add(layers.Conv2D(128, kernel_size=(3,3), strides = (1,1), activation='relu'))\n",
        "\n",
        "# Max Pool layer \n",
        "model.add(layers.MaxPool2D(pool_size = (2,2)))\n",
        "\n",
        "# Normalization layer\n",
        "model.add(layers.BatchNormalization())\n",
        "\n",
        "# 2D Convolution layer\n",
        "model.add(layers.Conv2D(128, kernel_size=(3,3), strides = (1,1), activation='relu'))\n",
        "\n",
        "# Max Pool layer \n",
        "model.add(layers.MaxPool2D(pool_size = (2,2)))\n",
        "\n",
        "# Global Max Pool layer\n",
        "model.add(layers.GlobalMaxPool2D())\n",
        "\n",
        "# Dense Layers after flattening the data\n",
        "model.add(layers.Flatten())\n",
        "\n",
        "model.add(layers.Dense(128, activation='relu'))\n",
        "\n",
        "# Dropout\n",
        "# is used to nullify the outputs that are very close to zero and thus can cause overfitting.\n",
        "model.add(layers.Dropout(0.2))\n",
        "model.add(layers.Dense(64, activation='relu'))\n",
        "\n",
        "# Normalization layer\n",
        "model.add(layers.BatchNormalization())\n",
        "\n",
        "#Add Output Layer\n",
        "model.add(layers.Dense(12, activation='softmax')) # = 12 predicted classes\n",
        "\n",
        "model.compile(loss='categorical_crossentropy', optimizer='adam', metrics=['accuracy'])\n",
        "\n",
        "model_A = model\n",
        "model_A.summary()"
      ],
      "execution_count": 46,
      "outputs": [
        {
          "output_type": "stream",
          "text": [
            "Model: \"sequential_2\"\n",
            "_________________________________________________________________\n",
            "Layer (type)                 Output Shape              Param #   \n",
            "=================================================================\n",
            "conv2d_9 (Conv2D)            (None, 69, 69, 64)        1792      \n",
            "_________________________________________________________________\n",
            "max_pooling2d_8 (MaxPooling2 (None, 34, 34, 64)        0         \n",
            "_________________________________________________________________\n",
            "batch_normalization (BatchNo (None, 34, 34, 64)        256       \n",
            "_________________________________________________________________\n",
            "conv2d_10 (Conv2D)           (None, 32, 32, 64)        36928     \n",
            "_________________________________________________________________\n",
            "max_pooling2d_9 (MaxPooling2 (None, 16, 16, 64)        0         \n",
            "_________________________________________________________________\n",
            "batch_normalization_1 (Batch (None, 16, 16, 64)        256       \n",
            "_________________________________________________________________\n",
            "conv2d_11 (Conv2D)           (None, 14, 14, 128)       73856     \n",
            "_________________________________________________________________\n",
            "max_pooling2d_10 (MaxPooling (None, 7, 7, 128)         0         \n",
            "_________________________________________________________________\n",
            "batch_normalization_2 (Batch (None, 7, 7, 128)         512       \n",
            "_________________________________________________________________\n",
            "conv2d_12 (Conv2D)           (None, 5, 5, 128)         147584    \n",
            "_________________________________________________________________\n",
            "max_pooling2d_11 (MaxPooling (None, 2, 2, 128)         0         \n",
            "_________________________________________________________________\n",
            "global_max_pooling2d (Global (None, 128)               0         \n",
            "_________________________________________________________________\n",
            "flatten_1 (Flatten)          (None, 128)               0         \n",
            "_________________________________________________________________\n",
            "dense_2 (Dense)              (None, 128)               16512     \n",
            "_________________________________________________________________\n",
            "dropout (Dropout)            (None, 128)               0         \n",
            "_________________________________________________________________\n",
            "dense_3 (Dense)              (None, 64)                8256      \n",
            "_________________________________________________________________\n",
            "batch_normalization_3 (Batch (None, 64)                256       \n",
            "_________________________________________________________________\n",
            "dense_4 (Dense)              (None, 12)                780       \n",
            "=================================================================\n",
            "Total params: 286,988\n",
            "Trainable params: 286,348\n",
            "Non-trainable params: 640\n",
            "_________________________________________________________________\n"
          ],
          "name": "stdout"
        }
      ]
    },
    {
      "cell_type": "code",
      "metadata": {
        "colab": {
          "base_uri": "https://localhost:8080/"
        },
        "id": "YfFTKUBRCPGU",
        "outputId": "28179337-133f-4041-a123-4782062f7b60"
      },
      "source": [
        "t0=time.time()\n",
        "history_A = model_A.fit_generator(datagen.flow(trainX, trainY, batch_size=50), epochs=35, validation_data=(testX, testY), verbose=2)\n",
        "t1=time.time()\n",
        "print(t1-t0,\" seconds\")\n",
        "\n",
        "# Final evaluation of the model\n",
        "scores = model_A.evaluate(testX, testY, verbose=0)\n",
        "print(\"Baseline Error: %.2f%%\" % (100-scores[1]*100))"
      ],
      "execution_count": 47,
      "outputs": [
        {
          "output_type": "stream",
          "text": [
            "/usr/local/lib/python3.7/dist-packages/tensorflow/python/keras/engine/training.py:1844: UserWarning: `Model.fit_generator` is deprecated and will be removed in a future version. Please use `Model.fit`, which supports generators.\n",
            "  warnings.warn('`Model.fit_generator` is deprecated and '\n"
          ],
          "name": "stderr"
        },
        {
          "output_type": "stream",
          "text": [
            "Epoch 1/35\n",
            "86/86 - 66s - loss: 1.9149 - accuracy: 0.3588 - val_loss: 2.9493 - val_accuracy: 0.1405\n",
            "Epoch 2/35\n",
            "86/86 - 64s - loss: 1.3044 - accuracy: 0.5542 - val_loss: 4.1166 - val_accuracy: 0.0608\n",
            "Epoch 3/35\n",
            "86/86 - 64s - loss: 1.0604 - accuracy: 0.6463 - val_loss: 4.8502 - val_accuracy: 0.0608\n",
            "Epoch 4/35\n",
            "86/86 - 64s - loss: 0.8654 - accuracy: 0.7111 - val_loss: 5.1605 - val_accuracy: 0.0776\n",
            "Epoch 5/35\n",
            "86/86 - 64s - loss: 0.7779 - accuracy: 0.7414 - val_loss: 5.2063 - val_accuracy: 0.0985\n",
            "Epoch 6/35\n",
            "86/86 - 64s - loss: 0.7146 - accuracy: 0.7550 - val_loss: 3.6034 - val_accuracy: 0.0860\n",
            "Epoch 7/35\n",
            "86/86 - 64s - loss: 0.6409 - accuracy: 0.7806 - val_loss: 1.3930 - val_accuracy: 0.5409\n",
            "Epoch 8/35\n",
            "86/86 - 64s - loss: 0.5711 - accuracy: 0.8037 - val_loss: 0.9405 - val_accuracy: 0.7023\n",
            "Epoch 9/35\n",
            "86/86 - 64s - loss: 0.5559 - accuracy: 0.8072 - val_loss: 0.7113 - val_accuracy: 0.7631\n",
            "Epoch 10/35\n",
            "86/86 - 64s - loss: 0.4779 - accuracy: 0.8254 - val_loss: 0.6669 - val_accuracy: 0.7631\n",
            "Epoch 11/35\n",
            "86/86 - 64s - loss: 0.4495 - accuracy: 0.8380 - val_loss: 0.6663 - val_accuracy: 0.7505\n",
            "Epoch 12/35\n",
            "86/86 - 64s - loss: 0.4536 - accuracy: 0.8368 - val_loss: 1.8110 - val_accuracy: 0.5618\n",
            "Epoch 13/35\n",
            "86/86 - 64s - loss: 0.4257 - accuracy: 0.8487 - val_loss: 0.9722 - val_accuracy: 0.6625\n",
            "Epoch 14/35\n",
            "86/86 - 64s - loss: 0.4062 - accuracy: 0.8566 - val_loss: 0.5924 - val_accuracy: 0.7945\n",
            "Epoch 15/35\n",
            "86/86 - 64s - loss: 0.4064 - accuracy: 0.8564 - val_loss: 0.6776 - val_accuracy: 0.7820\n",
            "Epoch 16/35\n",
            "86/86 - 64s - loss: 0.3753 - accuracy: 0.8666 - val_loss: 0.3772 - val_accuracy: 0.8679\n",
            "Epoch 17/35\n",
            "86/86 - 64s - loss: 0.3654 - accuracy: 0.8734 - val_loss: 0.5625 - val_accuracy: 0.8239\n",
            "Epoch 18/35\n",
            "86/86 - 64s - loss: 0.3489 - accuracy: 0.8757 - val_loss: 0.4854 - val_accuracy: 0.8071\n",
            "Epoch 19/35\n",
            "86/86 - 64s - loss: 0.3159 - accuracy: 0.8827 - val_loss: 0.5895 - val_accuracy: 0.7820\n",
            "Epoch 20/35\n",
            "86/86 - 64s - loss: 0.3209 - accuracy: 0.8804 - val_loss: 0.4044 - val_accuracy: 0.8512\n",
            "Epoch 21/35\n",
            "86/86 - 64s - loss: 0.3033 - accuracy: 0.8851 - val_loss: 0.4108 - val_accuracy: 0.8491\n",
            "Epoch 22/35\n",
            "86/86 - 64s - loss: 0.3150 - accuracy: 0.8869 - val_loss: 0.5801 - val_accuracy: 0.8092\n",
            "Epoch 23/35\n",
            "86/86 - 64s - loss: 0.2849 - accuracy: 0.8951 - val_loss: 0.4699 - val_accuracy: 0.7945\n",
            "Epoch 24/35\n",
            "86/86 - 64s - loss: 0.2838 - accuracy: 0.8927 - val_loss: 0.4849 - val_accuracy: 0.8323\n",
            "Epoch 25/35\n",
            "86/86 - 64s - loss: 0.2960 - accuracy: 0.8904 - val_loss: 0.3461 - val_accuracy: 0.8470\n",
            "Epoch 26/35\n",
            "86/86 - 64s - loss: 0.2851 - accuracy: 0.8951 - val_loss: 0.3881 - val_accuracy: 0.8491\n",
            "Epoch 27/35\n",
            "86/86 - 63s - loss: 0.2815 - accuracy: 0.8925 - val_loss: 0.3651 - val_accuracy: 0.8281\n",
            "Epoch 28/35\n",
            "86/86 - 64s - loss: 0.2742 - accuracy: 0.9011 - val_loss: 0.4693 - val_accuracy: 0.8197\n",
            "Epoch 29/35\n",
            "86/86 - 64s - loss: 0.2657 - accuracy: 0.9023 - val_loss: 1.0129 - val_accuracy: 0.6834\n",
            "Epoch 30/35\n",
            "86/86 - 64s - loss: 0.2663 - accuracy: 0.8948 - val_loss: 0.7829 - val_accuracy: 0.7526\n",
            "Epoch 31/35\n",
            "86/86 - 64s - loss: 0.2698 - accuracy: 0.9002 - val_loss: 0.3524 - val_accuracy: 0.8721\n",
            "Epoch 32/35\n",
            "86/86 - 64s - loss: 0.2610 - accuracy: 0.9039 - val_loss: 0.5070 - val_accuracy: 0.8491\n",
            "Epoch 33/35\n",
            "86/86 - 64s - loss: 0.2493 - accuracy: 0.9063 - val_loss: 0.3331 - val_accuracy: 0.8700\n",
            "Epoch 34/35\n",
            "86/86 - 64s - loss: 0.2358 - accuracy: 0.9086 - val_loss: 0.2905 - val_accuracy: 0.8994\n",
            "Epoch 35/35\n",
            "86/86 - 64s - loss: 0.2292 - accuracy: 0.9149 - val_loss: 0.4757 - val_accuracy: 0.8197\n",
            "2241.1483402252197  seconds\n",
            "Baseline Error: 18.03%\n"
          ],
          "name": "stdout"
        }
      ]
    },
    {
      "cell_type": "code",
      "metadata": {
        "colab": {
          "base_uri": "https://localhost:8080/"
        },
        "id": "SMdS7Kk4CO1k",
        "outputId": "5d27a0a1-1030-4c50-faef-c4bad5522ec7"
      },
      "source": [
        "print(model_A.evaluate(trainX, trainY))  # Evaluate on train set\n",
        "print(model_A.evaluate(testX, testY))  # Evaluate on test set"
      ],
      "execution_count": 48,
      "outputs": [
        {
          "output_type": "stream",
          "text": [
            "135/135 [==============================] - 15s 111ms/step - loss: 0.3510 - accuracy: 0.8643\n",
            "[0.35104918479919434, 0.8643040060997009]\n",
            "15/15 [==============================] - 2s 112ms/step - loss: 0.4757 - accuracy: 0.8197\n",
            "[0.4756591320037842, 0.8197064995765686]\n"
          ],
          "name": "stdout"
        }
      ]
    },
    {
      "cell_type": "code",
      "metadata": {
        "colab": {
          "base_uri": "https://localhost:8080/",
          "height": 281
        },
        "id": "oNbLLbsWFokP",
        "outputId": "0bfe92fb-6730-4f92-f552-8d8554b01c00"
      },
      "source": [
        "# plot training accuracies\n",
        "plt.plot(history_A.history['accuracy'],'b') #train acc\n",
        "plt.plot(history_A.history['val_accuracy'],'g') #val acc\n",
        "plt.title('Training and Validation Accuracy model_A') \n",
        "plt.show()"
      ],
      "execution_count": 49,
      "outputs": [
        {
          "output_type": "display_data",
          "data": {
            "image/png": "[encoded data removed]",
            "text/plain": [
              "<Figure size 432x288 with 1 Axes>"
            ]
          },
          "metadata": {
            "tags": [],
            "needs_background": "light"
          }
        }
      ]
    },
    {
      "cell_type": "code",
      "metadata": {
        "colab": {
          "base_uri": "https://localhost:8080/",
          "height": 281
        },
        "id": "vZNAAH8JFqoO",
        "outputId": "71dd4bfd-d330-4a89-d6a8-ed621d121f35"
      },
      "source": [
        "# plot training and validation loss\n",
        "plt.plot(history_A.history['loss'],'b') #train loss\n",
        "plt.plot(history_A.history['val_loss'],'g') #val loss\n",
        "plt.title('Training and Validation loss model_A') \n",
        "plt.show()"
      ],
      "execution_count": 50,
      "outputs": [
        {
          "output_type": "display_data",
          "data": {
            "image/png": "[encoded data removed]",
            "text/plain": [
              "<Figure size 432x288 with 1 Axes>"
            ]
          },
          "metadata": {
            "tags": [],
            "needs_background": "light"
          }
        }
      ]
    },
    {
      "cell_type": "code",
      "metadata": {
        "id": "BzItu-WqMmja"
      },
      "source": [
        "#Prediction"
      ],
      "execution_count": null,
      "outputs": []
    },
    {
      "cell_type": "code",
      "metadata": {
        "id": "Vn1zBYy8MmgA",
        "colab": {
          "base_uri": "https://localhost:8080/"
        },
        "outputId": "f5e758d0-0a80-4cb0-da4c-f11eabc1610a"
      },
      "source": [
        "Predicted_classes = model.predict_classes(testX)"
      ],
      "execution_count": null,
      "outputs": [
        {
          "output_type": "stream",
          "text": [
            "/usr/local/lib/python3.7/dist-packages/tensorflow/python/keras/engine/sequential.py:450: UserWarning: `model.predict_classes()` is deprecated and will be removed after 2021-01-01. Please use instead:* `np.argmax(model.predict(x), axis=-1)`,   if your model does multi-class classification   (e.g. if it uses a `softmax` last-layer activation).* `(model.predict(x) > 0.5).astype(\"int32\")`,   if your model does binary classification   (e.g. if it uses a `sigmoid` last-layer activation).\n",
            "  warnings.warn('`model.predict_classes()` is deprecated and '\n"
          ],
          "name": "stderr"
        }
      ]
    },
    {
      "cell_type": "code",
      "metadata": {
        "id": "0shbBJMyMmXK"
      },
      "source": [
        "wrong_preds = testX[Predicted_classes != np.argmax(testY)]"
      ],
      "execution_count": null,
      "outputs": []
    },
    {
      "cell_type": "code",
      "metadata": {
        "id": "G78Hh_XuHzP-"
      },
      "source": [
        "right_preds = testX[Predicted_classes == np.argmax(testY)]"
      ],
      "execution_count": null,
      "outputs": []
    },
    {
      "cell_type": "code",
      "metadata": {
        "id": "Ohz20jAhMmJG",
        "colab": {
          "base_uri": "https://localhost:8080/"
        },
        "outputId": "65e38b18-660e-49e7-e1f8-e06bfd8c01db"
      },
      "source": [
        "set(Predicted_classes)"
      ],
      "execution_count": null,
      "outputs": [
        {
          "output_type": "execute_result",
          "data": {
            "text/plain": [
              "{0, 1, 2, 3, 4, 5, 6, 7, 8, 9, 10, 11}"
            ]
          },
          "metadata": {
            "tags": []
          },
          "execution_count": 44
        }
      ]
    },
    {
      "cell_type": "code",
      "metadata": {
        "id": "S1cjGbauAFCH"
      },
      "source": [
        ""
      ],
      "execution_count": null,
      "outputs": []
    },
    {
      "cell_type": "code",
      "metadata": {
        "id": "Nc5rTFx0FgP9"
      },
      "source": [
        ""
      ],
      "execution_count": null,
      "outputs": []
    },
    {
      "cell_type": "code",
      "metadata": {
        "id": "WonbWra8AEyM",
        "colab": {
          "base_uri": "https://localhost:8080/"
        },
        "outputId": "6f3347cc-c29a-4a0a-c9f5-a77c17905aac"
      },
      "source": [
        "model1 = Sequential()\n",
        "model1.add(Flatten())\n",
        "model1.add(Dense(128, activation=\"relu\"))\n",
        "model1.add(Dense(128, activation=\"relu\"))\n",
        "model1.add(Dense(128, activation=\"relu\"))\n",
        "model1.add(Dense(12, activation=\"softmax\"))\n",
        "\n",
        "# Compile the model\n",
        "model1.compile(loss=\"categorical_crossentropy\", metrics=[\"accuracy\"], optimizer=\"adam\")\n",
        "\n",
        "# Fit the model\n",
        "model1 = model1.fit(x=trainX, y=trainY, batch_size=32, epochs=35, validation_data=(testX, testY))"
      ],
      "execution_count": 51,
      "outputs": [
        {
          "output_type": "stream",
          "text": [
            "Epoch 1/35\n",
            "135/135 [==============================] - 3s 18ms/step - loss: 2.1284 - accuracy: 0.2668 - val_loss: 1.5541 - val_accuracy: 0.4990\n",
            "Epoch 2/35\n",
            "135/135 [==============================] - 2s 16ms/step - loss: 1.2651 - accuracy: 0.5776 - val_loss: 1.2370 - val_accuracy: 0.5744\n",
            "Epoch 3/35\n",
            "135/135 [==============================] - 2s 16ms/step - loss: 0.9243 - accuracy: 0.6798 - val_loss: 1.2091 - val_accuracy: 0.5975\n",
            "Epoch 4/35\n",
            "135/135 [==============================] - 2s 16ms/step - loss: 0.6718 - accuracy: 0.7613 - val_loss: 1.2496 - val_accuracy: 0.5996\n",
            "Epoch 5/35\n",
            "135/135 [==============================] - 2s 16ms/step - loss: 0.5010 - accuracy: 0.8407 - val_loss: 1.3486 - val_accuracy: 0.6038\n",
            "Epoch 6/35\n",
            "135/135 [==============================] - 2s 16ms/step - loss: 0.3340 - accuracy: 0.8950 - val_loss: 1.3412 - val_accuracy: 0.6122\n",
            "Epoch 7/35\n",
            "135/135 [==============================] - 2s 16ms/step - loss: 0.2904 - accuracy: 0.9045 - val_loss: 1.4614 - val_accuracy: 0.6247\n",
            "Epoch 8/35\n",
            "135/135 [==============================] - 2s 16ms/step - loss: 0.2063 - accuracy: 0.9384 - val_loss: 1.7418 - val_accuracy: 0.5954\n",
            "Epoch 9/35\n",
            "135/135 [==============================] - 2s 16ms/step - loss: 0.2626 - accuracy: 0.9147 - val_loss: 1.8729 - val_accuracy: 0.5954\n",
            "Epoch 10/35\n",
            "135/135 [==============================] - 2s 16ms/step - loss: 0.1341 - accuracy: 0.9537 - val_loss: 2.1458 - val_accuracy: 0.6289\n",
            "Epoch 11/35\n",
            "135/135 [==============================] - 2s 16ms/step - loss: 0.1598 - accuracy: 0.9590 - val_loss: 1.8950 - val_accuracy: 0.6289\n",
            "Epoch 12/35\n",
            "135/135 [==============================] - 2s 16ms/step - loss: 0.1120 - accuracy: 0.9653 - val_loss: 1.8715 - val_accuracy: 0.6541\n",
            "Epoch 13/35\n",
            "135/135 [==============================] - 2s 15ms/step - loss: 0.0924 - accuracy: 0.9759 - val_loss: 2.5531 - val_accuracy: 0.5765\n",
            "Epoch 14/35\n",
            "135/135 [==============================] - 2s 15ms/step - loss: 0.4880 - accuracy: 0.8767 - val_loss: 2.1363 - val_accuracy: 0.6080\n",
            "Epoch 15/35\n",
            "135/135 [==============================] - 2s 16ms/step - loss: 0.0906 - accuracy: 0.9711 - val_loss: 1.9857 - val_accuracy: 0.6520\n",
            "Epoch 16/35\n",
            "135/135 [==============================] - 2s 15ms/step - loss: 0.0398 - accuracy: 0.9922 - val_loss: 2.2960 - val_accuracy: 0.6478\n",
            "Epoch 17/35\n",
            "135/135 [==============================] - 2s 15ms/step - loss: 0.0247 - accuracy: 0.9928 - val_loss: 2.2816 - val_accuracy: 0.6478\n",
            "Epoch 18/35\n",
            "135/135 [==============================] - 2s 16ms/step - loss: 0.0124 - accuracy: 0.9977 - val_loss: 2.3896 - val_accuracy: 0.6205\n",
            "Epoch 19/35\n",
            "135/135 [==============================] - 2s 15ms/step - loss: 0.0189 - accuracy: 0.9943 - val_loss: 2.5040 - val_accuracy: 0.6268\n",
            "Epoch 20/35\n",
            "135/135 [==============================] - 2s 16ms/step - loss: 0.0828 - accuracy: 0.9748 - val_loss: 2.5359 - val_accuracy: 0.6101\n",
            "Epoch 21/35\n",
            "135/135 [==============================] - 2s 16ms/step - loss: 0.1430 - accuracy: 0.9498 - val_loss: 2.2306 - val_accuracy: 0.6352\n",
            "Epoch 22/35\n",
            "135/135 [==============================] - 2s 18ms/step - loss: 0.1701 - accuracy: 0.9521 - val_loss: 2.4989 - val_accuracy: 0.5933\n",
            "Epoch 23/35\n",
            "135/135 [==============================] - 2s 18ms/step - loss: 0.0670 - accuracy: 0.9769 - val_loss: 2.2973 - val_accuracy: 0.6289\n",
            "Epoch 24/35\n",
            "135/135 [==============================] - 2s 16ms/step - loss: 0.0300 - accuracy: 0.9925 - val_loss: 2.3177 - val_accuracy: 0.6520\n",
            "Epoch 25/35\n",
            "135/135 [==============================] - 2s 16ms/step - loss: 0.0097 - accuracy: 0.9983 - val_loss: 2.4716 - val_accuracy: 0.6478\n",
            "Epoch 26/35\n",
            "135/135 [==============================] - 2s 16ms/step - loss: 0.0110 - accuracy: 0.9973 - val_loss: 2.5784 - val_accuracy: 0.6499\n",
            "Epoch 27/35\n",
            "135/135 [==============================] - 2s 17ms/step - loss: 0.0548 - accuracy: 0.9856 - val_loss: 2.5250 - val_accuracy: 0.6289\n",
            "Epoch 28/35\n",
            "135/135 [==============================] - 2s 16ms/step - loss: 0.0820 - accuracy: 0.9750 - val_loss: 2.9980 - val_accuracy: 0.5618\n",
            "Epoch 29/35\n",
            "135/135 [==============================] - 2s 16ms/step - loss: 0.1276 - accuracy: 0.9567 - val_loss: 2.3540 - val_accuracy: 0.6478\n",
            "Epoch 30/35\n",
            "135/135 [==============================] - 2s 16ms/step - loss: 0.0655 - accuracy: 0.9781 - val_loss: 2.3451 - val_accuracy: 0.6478\n",
            "Epoch 31/35\n",
            "135/135 [==============================] - 2s 16ms/step - loss: 0.0350 - accuracy: 0.9904 - val_loss: 2.5156 - val_accuracy: 0.6499\n",
            "Epoch 32/35\n",
            "135/135 [==============================] - 2s 16ms/step - loss: 0.0339 - accuracy: 0.9897 - val_loss: 2.7270 - val_accuracy: 0.6331\n",
            "Epoch 33/35\n",
            "135/135 [==============================] - 2s 16ms/step - loss: 0.0461 - accuracy: 0.9843 - val_loss: 2.4706 - val_accuracy: 0.6625\n",
            "Epoch 34/35\n",
            "135/135 [==============================] - 2s 15ms/step - loss: 0.0621 - accuracy: 0.9813 - val_loss: 3.1069 - val_accuracy: 0.6184\n",
            "Epoch 35/35\n",
            "135/135 [==============================] - 2s 16ms/step - loss: 0.1417 - accuracy: 0.9580 - val_loss: 2.8026 - val_accuracy: 0.6205\n"
          ],
          "name": "stdout"
        }
      ]
    },
    {
      "cell_type": "code",
      "metadata": {
        "id": "dRj4qW7NAEvE",
        "colab": {
          "base_uri": "https://localhost:8080/",
          "height": 281
        },
        "outputId": "560e0215-3915-4acc-842f-5d0aa8521f5a"
      },
      "source": [
        "\n",
        "# plot training accuracies\n",
        "plt.plot(model1.history['accuracy'],'b') #train acc\n",
        "plt.plot(model1.history['val_accuracy'],'g') #val acc\n",
        "plt.title('Training and Validation Accuracy model1') \n",
        "plt.show()"
      ],
      "execution_count": 52,
      "outputs": [
        {
          "output_type": "display_data",
          "data": {
            "image/png": "[encoded data removed]",
            "text/plain": [
              "<Figure size 432x288 with 1 Axes>"
            ]
          },
          "metadata": {
            "tags": [],
            "needs_background": "light"
          }
        }
      ]
    },
    {
      "cell_type": "code",
      "metadata": {
        "id": "MMWFpe98AEry",
        "colab": {
          "base_uri": "https://localhost:8080/",
          "height": 281
        },
        "outputId": "b7035d65-127d-46fa-c7d5-40f728a3f491"
      },
      "source": [
        "# plot training accuracies\n",
        "plt.plot(model1.history['loss'],'b') #train acc\n",
        "plt.plot(model1.history['val_loss'],'g') #val acc\n",
        "plt.title('Training and Validation loss model1') \n",
        "plt.show()"
      ],
      "execution_count": 53,
      "outputs": [
        {
          "output_type": "display_data",
          "data": {
            "image/png": "[encoded data removed]",
            "text/plain": [
              "<Figure size 432x288 with 1 Axes>"
            ]
          },
          "metadata": {
            "tags": [],
            "needs_background": "light"
          }
        }
      ]
    },
    {
      "cell_type": "code",
      "metadata": {
        "id": "jY5jriTkAEa0"
      },
      "source": [
        ""
      ],
      "execution_count": null,
      "outputs": []
    },
    {
      "cell_type": "code",
      "metadata": {
        "id": "xAO6MO23AEKP",
        "colab": {
          "base_uri": "https://localhost:8080/"
        },
        "outputId": "7efbe23d-7779-4b2b-bb74-b6f438753507"
      },
      "source": [
        "len(clearTrainImg), clearTrainImg.shape"
      ],
      "execution_count": 61,
      "outputs": [
        {
          "output_type": "execute_result",
          "data": {
            "text/plain": [
              "(4766, (4766, 71, 71, 3))"
            ]
          },
          "metadata": {
            "tags": []
          },
          "execution_count": 61
        }
      ]
    },
    {
      "cell_type": "code",
      "metadata": {
        "id": "Z6QjSeGyAC4x"
      },
      "source": [
        "n_samples = len(clearTrainImg)\n",
        "clearTrainImg_flatten = clearTrainImg.reshape((n_samples, -1))"
      ],
      "execution_count": 57,
      "outputs": []
    },
    {
      "cell_type": "code",
      "metadata": {
        "colab": {
          "base_uri": "https://localhost:8080/"
        },
        "id": "pkWULywIs2ql",
        "outputId": "51fa4201-db37-44ee-aeec-41d398c4aeaf"
      },
      "source": [
        "clearTrainImg_flatten.shape, encodeTrainLabels.shape"
      ],
      "execution_count": 82,
      "outputs": [
        {
          "output_type": "execute_result",
          "data": {
            "text/plain": [
              "((4766, 15123), (4766,))"
            ]
          },
          "metadata": {
            "tags": []
          },
          "execution_count": 82
        }
      ]
    },
    {
      "cell_type": "code",
      "metadata": {
        "colab": {
          "base_uri": "https://localhost:8080/"
        },
        "id": "7OW623PejDdO",
        "outputId": "d6fc4621-946c-4be4-8e9e-6c93b9eb121d"
      },
      "source": [
        "X_train, X_test, y_train, y_test = train_test_split(clearTrainImg_flatten,encodeTrainLabels)\n",
        "print('Training data and target sizes: \\n{}, {}'.format(X_train.shape,y_train.shape))\n",
        "print('Test data and target sizes: \\n{}, {}'.format(X_test.shape,y_test.shape))"
      ],
      "execution_count": 83,
      "outputs": [
        {
          "output_type": "stream",
          "text": [
            "Training data and target sizes: \n",
            "(3574, 15123), (3574,)\n",
            "Test data and target sizes: \n",
            "(1192, 15123), (1192,)\n"
          ],
          "name": "stdout"
        }
      ]
    },
    {
      "cell_type": "code",
      "metadata": {
        "colab": {
          "base_uri": "https://localhost:8080/"
        },
        "id": "pCI_1hG3jnDd",
        "outputId": "d4acd375-2a28-40cd-ce70-9273894b641e"
      },
      "source": [
        "from sklearn import datasets, svm, metrics\n",
        "# Create a classifier: a support vector classifier\n",
        "classifier = svm.SVC(gamma=0.001)\n",
        "#fit to the trainin data\n",
        "classifier.fit(X_train,y_train)"
      ],
      "execution_count": 84,
      "outputs": [
        {
          "output_type": "execute_result",
          "data": {
            "text/plain": [
              "SVC(C=1.0, break_ties=False, cache_size=200, class_weight=None, coef0=0.0,\n",
              "    decision_function_shape='ovr', degree=3, gamma=0.001, kernel='rbf',\n",
              "    max_iter=-1, probability=False, random_state=None, shrinking=True,\n",
              "    tol=0.001, verbose=False)"
            ]
          },
          "metadata": {
            "tags": []
          },
          "execution_count": 84
        }
      ]
    },
    {
      "cell_type": "code",
      "metadata": {
        "id": "A8boBzngwo30"
      },
      "source": [
        "y_pred = classifier.predict(X_test)"
      ],
      "execution_count": 85,
      "outputs": []
    },
    {
      "cell_type": "code",
      "metadata": {
        "colab": {
          "base_uri": "https://localhost:8080/"
        },
        "id": "Nxbhvh17xIij",
        "outputId": "928c53fb-4feb-4a78-f4ec-cc52212a03ab"
      },
      "source": [
        "print(\"Classification report for classifier %s:\\n%s\\n\"\n",
        "      % (classifier, metrics.classification_report(y_test, y_pred)))"
      ],
      "execution_count": 86,
      "outputs": [
        {
          "output_type": "stream",
          "text": [
            "Classification report for classifier SVC(C=1.0, break_ties=False, cache_size=200, class_weight=None, coef0=0.0,\n",
            "    decision_function_shape='ovr', degree=3, gamma=0.001, kernel='rbf',\n",
            "    max_iter=-1, probability=False, random_state=None, shrinking=True,\n",
            "    tol=0.001, verbose=False):\n",
            "              precision    recall  f1-score   support\n",
            "\n",
            "           0       0.00      0.00      0.00        58\n",
            "           1       0.59      0.82      0.69       100\n",
            "           2       0.62      0.22      0.33        68\n",
            "           3       0.47      0.71      0.57       143\n",
            "           4       0.50      0.02      0.03        64\n",
            "           5       0.37      0.44      0.40       115\n",
            "           6       0.55      0.87      0.67       158\n",
            "           7       0.71      0.18      0.28        57\n",
            "           8       0.33      0.47      0.39       129\n",
            "           9       0.57      0.07      0.12        57\n",
            "          10       0.73      0.76      0.75       131\n",
            "          11       0.66      0.47      0.55       112\n",
            "\n",
            "    accuracy                           0.52      1192\n",
            "   macro avg       0.51      0.42      0.40      1192\n",
            "weighted avg       0.52      0.52      0.47      1192\n",
            "\n",
            "\n"
          ],
          "name": "stdout"
        },
        {
          "output_type": "stream",
          "text": [
            "/usr/local/lib/python3.7/dist-packages/sklearn/metrics/_classification.py:1272: UndefinedMetricWarning: Precision and F-score are ill-defined and being set to 0.0 in labels with no predicted samples. Use `zero_division` parameter to control this behavior.\n",
            "  _warn_prf(average, modifier, msg_start, len(result))\n"
          ],
          "name": "stderr"
        }
      ]
    },
    {
      "cell_type": "code",
      "metadata": {
        "colab": {
          "base_uri": "https://localhost:8080/",
          "height": 199
        },
        "id": "QpaFdv6ZxkZ4",
        "outputId": "d4773e09-3a77-4814-acf3-c6ad179ff7b9"
      },
      "source": [
        "import pickle \n",
        "# Save the trained model as a pickle string.\n",
        "saved_model_CNN = pickle.dumps(model)"
      ],
      "execution_count": 88,
      "outputs": [
        {
          "output_type": "error",
          "ename": "TypeError",
          "evalue": "ignored",
          "traceback": [
            "\u001b[0;31m---------------------------------------------------------------------------\u001b[0m",
            "\u001b[0;31mTypeError\u001b[0m                                 Traceback (most recent call last)",
            "\u001b[0;32m<ipython-input-88-dc52d8231d58>\u001b[0m in \u001b[0;36m<module>\u001b[0;34m()\u001b[0m\n\u001b[1;32m      1\u001b[0m \u001b[0;32mimport\u001b[0m \u001b[0mpickle\u001b[0m\u001b[0;34m\u001b[0m\u001b[0;34m\u001b[0m\u001b[0m\n\u001b[1;32m      2\u001b[0m \u001b[0;31m# Save the trained model as a pickle string.\u001b[0m\u001b[0;34m\u001b[0m\u001b[0;34m\u001b[0m\u001b[0;34m\u001b[0m\u001b[0m\n\u001b[0;32m----> 3\u001b[0;31m \u001b[0msaved_model_CNN\u001b[0m \u001b[0;34m=\u001b[0m \u001b[0mpickle\u001b[0m\u001b[0;34m.\u001b[0m\u001b[0mdumps\u001b[0m\u001b[0;34m(\u001b[0m\u001b[0mmodel\u001b[0m\u001b[0;34m)\u001b[0m\u001b[0;34m\u001b[0m\u001b[0;34m\u001b[0m\u001b[0m\n\u001b[0m",
            "\u001b[0;31mTypeError\u001b[0m: can't pickle weakref objects"
          ]
        }
      ]
    },
    {
      "cell_type": "code",
      "metadata": {
        "id": "GcVWvQQBzLh5"
      },
      "source": [
        "# Load the pickled model\n",
        "CNN_from_pickle = pickle.loads(saved_model_CNN) \n",
        "# Use the loaded pickled model to make predictions\n",
        "CNN_from_pickle.predict(X_test)"
      ],
      "execution_count": null,
      "outputs": []
    },
    {
      "cell_type": "code",
      "metadata": {
        "id": "G9FUHzE1yEx6"
      },
      "source": [
        "\n",
        "#2\n",
        "# save the model to disk\n",
        "filename = 'finalized_model.sav'\n",
        "pickle.dump(model, open(filename, 'wb'))\n",
        "# load the model from disk\n",
        "loaded_model = pickle.load(open(filename, 'rb'))\n",
        "result = loaded_model.score(X_test, Y_test)\n",
        "print(result)"
      ],
      "execution_count": null,
      "outputs": []
    },
    {
      "cell_type": "code",
      "metadata": {
        "id": "lqaR5lyECCJF",
        "outputId": "a57ee88c-b8ed-4ddf-84ef-41c09f4ebf6e",
        "colab": {
          "base_uri": "https://localhost:8080/"
        }
      },
      "source": [
        "2"
      ],
      "execution_count": 92,
      "outputs": [
        {
          "output_type": "execute_result",
          "data": {
            "text/plain": [
              "2"
            ]
          },
          "metadata": {
            "tags": []
          },
          "execution_count": 92
        }
      ]
    }
  ]
}